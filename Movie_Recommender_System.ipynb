{
 "cells": [
  {
   "cell_type": "markdown",
   "metadata": {},
   "source": [
    "# Movie Recommender System\n",
    "### In this experiment, we will build movie recommender systems inspired by the following papers:\n",
    "\n",
    "http://cs229.stanford.edu/proj2012/BaoXia-MovieRatingEstimationAndRecommendation_FinalWriteup.pdf\n",
    "https://grouplens.org/site-content/uploads/Item-Based-WWW-2001.pdf\n",
    "\n",
    "### using the data downloaded from the following site: https://grouplens.org/datasets/movielens/100k/. The dataset consists of 943 users and 1682 movies in which each user has rated at least 20 movies.\n",
    "### In order to compare results between different training sets and testing sets, as well as for model comparison between different algorithms, we will just use ua.base / ua.test for simplicity.\n",
    "### To start with, Let's read in the downloaded data using pandas."
   ]
  },
  {
   "cell_type": "code",
   "execution_count": 1,
   "metadata": {},
   "outputs": [
    {
     "name": "stdout",
     "output_type": "stream",
     "text": [
      "pandas version is 0.20.1.\n",
      "Reading in the data files...Done!\n"
     ]
    }
   ],
   "source": [
    "import pandas as pd\n",
    "print('pandas version is {}.'.format(pd.__version__))\n",
    "\n",
    "# Read in each file. We use sep='\\t' (tab separation) since the data in each file are separated by tabs.\n",
    "# The files have no column names, so we use header=None, and will make up our column names by using the names parameter.\n",
    "print(\"Reading in the data files...\", end=\"\")\n",
    "df_uabase = pd.read_csv('ua.base', sep='\\t', header=None, names=['UserID', 'ItemID', 'Rating', 'Timestamp'])\n",
    "df_uatest = pd.read_csv('ua.test', sep='\\t', header=None, names=['UserID', 'ItemID', 'Rating', 'Timestamp'])\n",
    "df_ubbase = pd.read_csv('ub.base', sep='\\t', header=None, names=['UserID', 'ItemID', 'Rating', 'Timestamp'])\n",
    "df_ubtest = pd.read_csv('ub.test', sep='\\t', header=None, names=['UserID', 'ItemID', 'Rating', 'Timestamp'])\n",
    "df_u = pd.read_csv('u.data', sep='\\t', header=None, names=['UserID', 'ItemID', 'Rating', 'Timestamp'])\n",
    "print(\"Done!\")"
   ]
  },
  {
   "cell_type": "markdown",
   "metadata": {},
   "source": [
    "### Let's see what one of these dataframes looks like. As for the column names we just created, UserID refers to the ID number of each reviewer, ItemID is the ID number of a movie being rated, Rating is the score that the user gave the movie (1-5), and Timestamp is the time at which the rating was recorded."
   ]
  },
  {
   "cell_type": "code",
   "execution_count": 2,
   "metadata": {
    "scrolled": true
   },
   "outputs": [
    {
     "name": "stdout",
     "output_type": "stream",
     "text": [
      "       UserID  ItemID  Rating  Timestamp\n",
      "0         196     242       3  881250949\n",
      "1         186     302       3  891717742\n",
      "2          22     377       1  878887116\n",
      "3         244      51       2  880606923\n",
      "4         166     346       1  886397596\n",
      "5         298     474       4  884182806\n",
      "6         115     265       2  881171488\n",
      "7         253     465       5  891628467\n",
      "8         305     451       3  886324817\n",
      "9           6      86       3  883603013\n",
      "10         62     257       2  879372434\n",
      "11        286    1014       5  879781125\n",
      "12        200     222       5  876042340\n",
      "13        210      40       3  891035994\n",
      "14        224      29       3  888104457\n",
      "15        303     785       3  879485318\n",
      "16        122     387       5  879270459\n",
      "17        194     274       2  879539794\n",
      "18        291    1042       4  874834944\n",
      "19        234    1184       2  892079237\n",
      "20        119     392       4  886176814\n",
      "21        167     486       4  892738452\n",
      "22        299     144       4  877881320\n",
      "23        291     118       2  874833878\n",
      "24        308       1       4  887736532\n",
      "25         95     546       2  879196566\n",
      "26         38      95       5  892430094\n",
      "27        102     768       2  883748450\n",
      "28         63     277       4  875747401\n",
      "29        160     234       5  876861185\n",
      "...       ...     ...     ...        ...\n",
      "99970     449     120       1  879959573\n",
      "99971     661     762       2  876037121\n",
      "99972     721     874       3  877137447\n",
      "99973     821     151       4  874792889\n",
      "99974     764     596       3  876243046\n",
      "99975     537     443       3  886031752\n",
      "99976     618     628       2  891308019\n",
      "99977     487     291       3  883445079\n",
      "99978     113     975       5  875936424\n",
      "99979     943     391       2  888640291\n",
      "99980     864     685       4  888891900\n",
      "99981     750     323       3  879445877\n",
      "99982     279      64       1  875308510\n",
      "99983     646     750       3  888528902\n",
      "99984     654     370       2  887863914\n",
      "99985     617     582       4  883789294\n",
      "99986     913     690       3  880824288\n",
      "99987     660     229       2  891406212\n",
      "99988     421     498       4  892241344\n",
      "99989     495    1091       4  888637503\n",
      "99990     806     421       4  882388897\n",
      "99991     676     538       4  892685437\n",
      "99992     721     262       3  877137285\n",
      "99993     913     209       2  881367150\n",
      "99994     378      78       3  880056976\n",
      "99995     880     476       3  880175444\n",
      "99996     716     204       5  879795543\n",
      "99997     276    1090       1  874795795\n",
      "99998      13     225       2  882399156\n",
      "99999      12     203       3  879959583\n",
      "\n",
      "[100000 rows x 4 columns]\n"
     ]
    }
   ],
   "source": [
    "print(df_u)"
   ]
  },
  {
   "cell_type": "markdown",
   "metadata": {},
   "source": [
    "### Let's also verify that the dataset indeed consists of 943 users and 1682 movies, respecitvely by printing out the max. value from the UserID and ItemID columns (e.g. the largest (last) UserID should be 943 since there are 943 total users)."
   ]
  },
  {
   "cell_type": "code",
   "execution_count": 3,
   "metadata": {},
   "outputs": [
    {
     "name": "stdout",
     "output_type": "stream",
     "text": [
      "943\n",
      "1682\n"
     ]
    }
   ],
   "source": [
    "print(max(df_u['UserID'])) # expected 943\n",
    "print(max(df_u['ItemID'])) # expected 1682"
   ]
  },
  {
   "cell_type": "markdown",
   "metadata": {},
   "source": [
    "### OK, now that we have read in and verified the data, we will begin by plotting histograms as follows:\n",
    "### a. Plot the histogram of the variable #movie_ratings = number of ratings for a movie.\n",
    "### b. Plot the histogram of the variable #user_ratings = number of ratings for a user\n",
    "### For convenience, we will use the file u.data (e.g. the dataframe df_u), which contains all 100,000 ratings (whereas the other files split the data into training / testing data). \n",
    "### Let's count up the no. of ratings given by each user, as well as the no. of ratings received by each movie."
   ]
  },
  {
   "cell_type": "code",
   "execution_count": 4,
   "metadata": {},
   "outputs": [
    {
     "name": "stdout",
     "output_type": "stream",
     "text": [
      "Counting up the no. of ratings given out by each user, as well as the no. of rating each movie received...Done!\n"
     ]
    }
   ],
   "source": [
    "from collections import Counter\n",
    "\n",
    "# Initialize dictionary to keep track of number of ratings by each user, and number of rating for each movie.\n",
    "num_ratings_by_users = Counter()\n",
    "num_ratings_for_movies = Counter()\n",
    "\n",
    "# Let's extract the numpy array from the dataframe by using .values\n",
    "np_u = df_u.values\n",
    "# print(\"Number of rows and cols in np_u (expected 100000, 4): {}\".format(np_u.shape)) # Expected 100000 rows and 4 cols\n",
    "\n",
    "print(\"Counting up the no. of ratings given out by each user, as well as the no. of rating each movie received...\", end=\"\")\n",
    "# Now count the number of ratings given out by each user, as well as the number of ratings each movie received.\n",
    "for row in np_u:\n",
    "    userID = row[0]\n",
    "    movieID = row[1]\n",
    "    num_ratings_by_users[userID] += 1\n",
    "    num_ratings_for_movies[movieID] += 1\n",
    "print(\"Done!\")"
   ]
  },
  {
   "cell_type": "markdown",
   "metadata": {},
   "source": [
    "### Let's re-verify that there are 943 total unique users and 1682 unique movies, as stated earlier."
   ]
  },
  {
   "cell_type": "code",
   "execution_count": 5,
   "metadata": {},
   "outputs": [
    {
     "name": "stdout",
     "output_type": "stream",
     "text": [
      "Total no. of users (expected 943): 943\n",
      "Total no. of movies (expected 1682): 1682\n"
     ]
    }
   ],
   "source": [
    "total_users = len(num_ratings_by_users)\n",
    "total_movies = len(num_ratings_for_movies)\n",
    "print(\"Total no. of users (expected 943): {}\".format(total_users)) # expected 943 users\n",
    "print(\"Total no. of movies (expected 1682): {}\".format(total_movies)) # expected 1682 movies"
   ]
  },
  {
   "cell_type": "markdown",
   "metadata": {},
   "source": [
    "### For plotting the histograms, we don't need the keys of the counter -- we only need the values."
   ]
  },
  {
   "cell_type": "code",
   "execution_count": 6,
   "metadata": {
    "collapsed": true
   },
   "outputs": [],
   "source": [
    "user_ratings = list(num_ratings_by_users.values())\n",
    "movie_ratings = list(num_ratings_for_movies.values())"
   ]
  },
  {
   "cell_type": "markdown",
   "metadata": {},
   "source": [
    "### For sanity check, let's print the 10 smallest elements of the lists. Since each user gave at least 20 ratings and each movie received at least 1 rating, we should not see anything smaller than these, respectively."
   ]
  },
  {
   "cell_type": "code",
   "execution_count": 7,
   "metadata": {},
   "outputs": [
    {
     "name": "stdout",
     "output_type": "stream",
     "text": [
      "[20, 20, 20, 20, 20, 20, 20, 20, 20, 20]\n",
      "[1, 1, 1, 1, 1, 1, 1, 1, 1, 1]\n"
     ]
    }
   ],
   "source": [
    "# This shows the no. of ratings given by the 10 LEAST active users (users that gave the fewest ratings)\n",
    "# Since each user gave at least 20 ratings, we should not see any value less than 20 here.\n",
    "print (sorted(user_ratings)[:10])\n",
    "\n",
    "# This shows the no. of ratings received by the 10 LEAST rated movies. Each movie received at least 1 rating.\n",
    "print (sorted(movie_ratings)[:10])"
   ]
  },
  {
   "cell_type": "markdown",
   "metadata": {},
   "source": [
    "### We are now ready to plot the histograms. Naturally, we expect to find that the majority of users gave only a few ratings per person, and most movies received only a few ratings each."
   ]
  },
  {
   "cell_type": "code",
   "execution_count": 10,
   "metadata": {},
   "outputs": [
    {
     "data": {
      "image/png": "[encoded data removed]",
      "text/plain": [
       "<matplotlib.figure.Figure at 0x1727502eeb8>"
      ]
     },
     "metadata": {},
     "output_type": "display_data"
    },
    {
     "data": {
      "image/png": "[encoded data removed]",
      "text/plain": [
       "<matplotlib.figure.Figure at 0x17274f28198>"
      ]
     },
     "metadata": {},
     "output_type": "display_data"
    }
   ],
   "source": [
    "import matplotlib.pyplot as plt\n",
    "# n, bins, patches = plt.hist(ratings_by_users_values, 50, normed = 1) # Update: commented out. No need to normalize\n",
    "\n",
    "# User ratings histogram. We'll arbitrarily use 50 bins as it seems reasonable enough. alpha for transparency.\n",
    "n, bins, patches = plt.hist(user_ratings, 50, facecolor = 'green', alpha = 0.70, edgecolor = \"black\")\n",
    "plt.xlabel('Number of Ratings Given by Users')\n",
    "plt.ylabel('Number of Users')\n",
    "plt.title('Histogram: Number of Ratings Given out by Users')\n",
    "plt.axis([0, 800, 0, 300])\n",
    "plt.grid(True)\n",
    "plt.show()\n",
    "\n",
    "# Movie ratings histogram.\n",
    "plt.hist(movie_ratings, 50, facecolor = 'blue', alpha = 0.70, edgecolor = \"black\")\n",
    "plt.xlabel('Number of Ratings Received by Movies')\n",
    "plt.ylabel('Number of Movies')\n",
    "plt.title('Histogram: Number of Ratings Received by Movies')\n",
    "plt.axis([0, 800, 0, 700])\n",
    "plt.grid(True)\n",
    "plt.show()"
   ]
  },
  {
   "cell_type": "markdown",
   "metadata": {},
   "source": [
    "### Next, we will build a recommender system. For this, the training and testing data will be pre-processed as follows: we apply the database to build a U by I matrix A, where U is the number of users, and I is the number of rated movies. Each element A_ui denotes the rating scored by the u-th user for the i-th movie.\n",
    "### We know from above that U = 943 users and I = 1682 movies, so the size of matrix A will be 943 x 1682.\n",
    "### From this point on, we will no longer use the file u.data. Instead, let's create a matrix separately for each training / testing data file: ua.base / ua.test."
   ]
  },
  {
   "cell_type": "code",
   "execution_count": 13,
   "metadata": {},
   "outputs": [
    {
     "name": "stdout",
     "output_type": "stream",
     "text": [
      "Total no. of ratings (expected 100000): 100000\n",
      "Initializing and populating matrices separately for ua.base and ua.test...Done.\n",
      "Dimension of A_uabase (expected 943, 1682): (943, 1682)\n",
      "Dimension of A_uatest (expected 943, 1682): (943, 1682)\n"
     ]
    }
   ],
   "source": [
    "import numpy as np\n",
    "\n",
    "# Get the numpy array versions of the dataframes corresponding to ua.base and ua.test\n",
    "np_uabase = df_uabase.values\n",
    "np_uatest = df_uatest.values\n",
    "\n",
    "# Sanity check. Expected 100000 total ratings\n",
    "print(\"Total no. of ratings (expected 100000): {}\".format(len(np_uabase) + len(np_uatest)))\n",
    "\n",
    "print(\"Initializing and populating matrices separately for ua.base and ua.test...\", end=\"\")\n",
    "# Initialize empty 943 x 1682 matrix separately for ua.base and ua.test\n",
    "A_uabase = np.zeros( (total_users, total_movies) )\n",
    "A_uatest = A_uabase.copy()\n",
    "\n",
    "# Method to fill up the matrix according to the data in a given file.\n",
    "# @param A: a 2D array\n",
    "# @param datafile: given training (or testing) file\n",
    "def populateMatrix(A, datafile):\n",
    "    for row in datafile:\n",
    "        userID = row[0]\n",
    "        movieID = row[1]\n",
    "        rating = row[2]\n",
    "        \n",
    "        #UserID's range from 1-943 and movieID's from 1-1682, thus in order to prevent out of index range error,\n",
    "        # we decrement each by 1 before updating the matrix A (which is of course indexed starting from 0).\n",
    "        A[userID-1][movieID-1] = rating\n",
    "# end populateMatrix\n",
    "\n",
    "# Invoke the custom method to populate the two matrices.\n",
    "populateMatrix(A_uabase, np_uabase)\n",
    "populateMatrix(A_uatest, np_uatest)\n",
    "\n",
    "print(\"Done.\")\n",
    "# Expected (943, 1682) for all\n",
    "print(\"Dimension of A_uabase (expected 943, 1682): {}\".format(A_uabase.shape))\n",
    "print(\"Dimension of A_uatest (expected 943, 1682): {}\".format(A_uatest.shape))\n",
    "\n",
    "def checkValid(A):\n",
    "    for row in A:\n",
    "#         invalidElements = [element for element in row if element != 0 and element != 1 and element != 2 and element != 3 and element != 4 and element != 5]\n",
    "        invalidElements = [element for element in row if element < 0 or element > 5]\n",
    "        if (len(invalidElements) > 0):\n",
    "            raise ValueError(\"ERROR!\")\n",
    "\n",
    "# sanity check. Every element in these matrices must have a movie rating ranging from 1 to 5 if the user rated the movie,\n",
    "# or 0 otherwise\n",
    "checkValid(A_uabase)\n",
    "checkValid(A_uatest)"
   ]
  },
  {
   "cell_type": "markdown",
   "metadata": {},
   "source": [
    "### Let's observe a single row of these matrices. Most of the entries should be zero (as the matrix is expected to be sparse)."
   ]
  },
  {
   "cell_type": "code",
   "execution_count": 14,
   "metadata": {},
   "outputs": [
    {
     "name": "stdout",
     "output_type": "stream",
     "text": [
      "[0.0, 5.0, 0.0, 0.0, 0.0, 0.0, 0.0, 0.0, 3.0, 0.0, 0.0, 5.0, 0.0, 0.0, 0.0, 0.0, 0.0, 0.0, 0.0, 0.0, 0.0, 4.0, 4.0, 4.0, 0.0, 0.0, 4.0, 4.0, 0.0, 0.0, 4.0, 0.0, 0.0, 0.0, 0.0, 0.0, 0.0, 3.0, 0.0, 0.0, 4.0, 5.0, 0.0, 0.0, 0.0, 0.0, 0.0, 0.0, 0.0, 4.0, 1.0, 0.0, 3.0, 4.0, 5.0, 5.0, 0.0, 0.0, 0.0, 0.0, 0.0, 3.0, 0.0, 5.0, 0.0, 0.0, 4.0, 4.0, 5.0, 0.0, 0.0, 2.0, 3.0, 0.0, 0.0, 4.0, 0.0, 0.0, 5.0, 2.0, 0.0, 0.0, 0.0, 0.0, 0.0, 0.0, 0.0, 0.0, 0.0, 0.0, 0.0, 5.0, 0.0, 4.0, 0.0, 4.0, 2.0, 5.0, 0.0, 5.0, 0.0, 0.0, 0.0, 0.0, 0.0, 0.0, 0.0, 0.0, 0.0, 0.0, 0.0, 0.0, 0.0, 0.0, 0.0, 0.0, 4.0, 0.0, 0.0, 0.0, 3.0, 1.0, 0.0, 3.0, 0.0, 0.0, 5.0, 0.0, 0.0, 0.0, 0.0, 3.0, 0.0, 0.0, 0.0, 0.0, 0.0, 0.0, 1.0, 0.0, 0.0, 0.0, 0.0, 0.0, 0.0, 0.0, 0.0, 0.0, 0.0, 0.0, 4.0, 0.0, 0.0, 0.0, 0.0, 0.0, 0.0, 0.0, 0.0, 0.0, 4.0, 0.0, 0.0, 0.0, 0.0, 0.0, 0.0, 2.0, 0.0, 0.0, 0.0, 4.0, 5.0, 4.0, 0.0, 0.0, 0.0, 0.0, 0.0, 0.0, 4.0, 5.0, 0.0, 5.0, 2.0, 0.0, 5.0, 4.0, 0.0, 0.0, 0.0, 0.0, 4.0, 5.0, 4.0, 5.0, 0.0, 0.0, 0.0, 4.0, 5.0, 2.0, 0.0, 3.0, 5.0, 0.0, 0.0, 0.0, 0.0, 4.0, 0.0, 0.0, 0.0, 0.0, 0.0, 4.0, 3.0, 4.0, 4.0, 0.0, 0.0, 0.0, 0.0, 0.0, 0.0, 4.0, 1.0, 3.0, 2.0, 1.0, 2.0, 0.0, 5.0, 3.0, 0.0, 0.0, 4.0, 0.0, 5.0, 0.0, 0.0, 0.0, 0.0, 0.0, 0.0, 0.0, 0.0, 0.0, 0.0, 0.0, 0.0, 0.0, 0.0, 0.0, 0.0, 0.0, 0.0, 0.0, 0.0, 0.0, 0.0, 0.0, 0.0, 0.0, 0.0, 0.0, 0.0, 0.0, 0.0, 0.0, 0.0, 0.0, 0.0, 3.0, 0.0, 0.0, 0.0, 0.0, 0.0, 0.0, 4.0, 5.0, 0.0, 2.0, 0.0, 0.0, 0.0, 0.0, 0.0, 0.0, 0.0, 0.0, 0.0, 0.0, 0.0, 0.0, 0.0, 0.0, 0.0, 0.0, 0.0, 0.0, 0.0, 0.0, 0.0, 0.0, 0.0, 0.0, 0.0, 0.0, 0.0, 0.0, 0.0, 0.0, 0.0, 0.0, 0.0, 3.0, 0.0, 0.0, 0.0, 0.0, 0.0, 0.0, 0.0, 0.0, 0.0, 0.0, 0.0, 0.0, 0.0, 0.0, 0.0, 0.0, 0.0, 0.0, 0.0, 0.0, 0.0, 0.0, 0.0, 0.0, 0.0, 0.0, 0.0, 0.0, 0.0, 0.0, 0.0, 0.0, 0.0, 0.0, 0.0, 0.0, 0.0, 0.0, 0.0, 0.0, 0.0, 0.0, 0.0, 0.0, 0.0, 0.0, 0.0, 0.0, 4.0, 0.0, 0.0, 0.0, 0.0, 0.0, 3.0, 0.0, 0.0, 0.0, 0.0, 0.0, 0.0, 0.0, 0.0, 0.0, 0.0, 0.0, 4.0, 1.0, 0.0, 0.0, 0.0, 0.0, 2.0, 0.0, 2.0, 0.0, 0.0, 0.0, 0.0, 0.0, 1.0, 0.0, 1.0, 2.0, 4.0, 0.0, 4.0, 3.0, 0.0, 0.0, 0.0, 0.0, 0.0, 2.0, 0.0, 0.0, 1.0, 0.0, 0.0, 0.0, 2.0, 0.0, 2.0, 0.0, 3.0, 0.0, 0.0, 4.0, 4.0, 0.0, 0.0, 0.0, 4.0, 0.0, 0.0, 0.0, 0.0, 0.0, 0.0, 0.0, 0.0, 0.0, 0.0, 0.0, 2.0, 0.0, 0.0, 0.0, 0.0, 0.0, 1.0, 1.0, 0.0, 0.0, 0.0, 0.0, 0.0, 0.0, 0.0, 0.0, 0.0, 0.0, 0.0, 0.0, 0.0, 0.0, 0.0, 0.0, 0.0, 2.0, 0.0, 4.0, 5.0, 0.0, 0.0, 0.0, 5.0, 0.0, 0.0, 0.0, 0.0, 0.0, 0.0, 0.0, 0.0, 0.0, 5.0, 0.0, 0.0, 0.0, 0.0, 0.0, 0.0, 0.0, 0.0, 0.0, 0.0, 0.0, 0.0, 0.0, 0.0, 0.0, 0.0, 0.0, 0.0, 0.0, 0.0, 0.0, 0.0, 5.0, 0.0, 0.0, 0.0, 0.0, 0.0, 0.0, 0.0, 0.0, 0.0, 0.0, 0.0, 0.0, 0.0, 0.0, 0.0, 0.0, 0.0, 4.0, 0.0, 0.0, 0.0, 0.0, 0.0, 0.0, 0.0, 0.0, 0.0, 0.0, 0.0, 0.0, 0.0, 0.0, 4.0, 0.0, 0.0, 0.0, 0.0, 4.0, 0.0, 0.0, 1.0, 0.0, 0.0, 0.0, 0.0, 0.0, 0.0, 0.0, 0.0, 0.0, 4.0, 0.0, 0.0, 0.0, 0.0, 0.0, 0.0, 4.0, 0.0, 3.0, 2.0, 0.0, 0.0, 0.0, 0.0, 0.0, 0.0, 4.0, 0.0, 0.0, 0.0, 0.0, 4.0, 0.0, 0.0, 0.0, 1.0, 0.0, 0.0, 0.0, 0.0, 0.0, 0.0, 0.0, 0.0, 0.0, 2.0, 0.0, 0.0, 0.0, 0.0, 0.0, 0.0, 0.0, 0.0, 0.0, 0.0, 0.0, 0.0, 0.0, 2.0, 0.0, 0.0, 0.0, 0.0, 5.0, 0.0, 0.0, 0.0, 0.0, 0.0, 0.0, 0.0, 0.0, 0.0, 0.0, 3.0, 0.0, 0.0, 0.0, 0.0, 0.0, 0.0, 0.0, 0.0, 0.0, 0.0, 0.0, 0.0, 0.0, 0.0, 0.0, 0.0, 0.0, 0.0, 0.0, 0.0, 0.0, 0.0, 0.0, 0.0, 0.0, 0.0, 0.0, 0.0, 0.0, 4.0, 0.0, 0.0, 0.0, 0.0, 0.0, 0.0, 0.0, 0.0, 0.0, 0.0, 0.0, 0.0, 0.0, 0.0, 0.0, 0.0, 5.0, 0.0, 0.0, 0.0, 0.0, 0.0, 0.0, 0.0, 0.0, 0.0, 0.0, 0.0, 0.0, 4.0, 0.0, 0.0, 0.0, 0.0, 0.0, 0.0, 0.0, 0.0, 0.0, 0.0, 0.0, 0.0, 0.0, 0.0, 0.0, 0.0, 0.0, 0.0, 0.0, 0.0, 0.0, 0.0, 0.0, 0.0, 0.0, 0.0, 0.0, 0.0, 0.0, 0.0, 0.0, 4.0, 0.0, 0.0, 1.0, 5.0, 3.0, 0.0, 1.0, 0.0, 0.0, 0.0, 0.0, 0.0, 0.0, 0.0, 4.0, 0.0, 0.0, 0.0, 0.0, 0.0, 0.0, 4.0, 0.0, 0.0, 0.0, 0.0, 0.0, 0.0, 0.0, 0.0, 0.0, 0.0, 0.0, 0.0, 0.0, 0.0, 0.0, 0.0, 2.0, 0.0, 0.0, 0.0, 0.0, 0.0, 0.0, 4.0, 0.0, 3.0, 0.0, 0.0, 0.0, 0.0, 0.0, 0.0, 0.0, 0.0, 0.0, 0.0, 0.0, 0.0, 0.0, 0.0, 0.0, 0.0, 0.0, 0.0, 0.0, 2.0, 0.0, 0.0, 0.0, 0.0, 0.0, 0.0, 0.0, 0.0, 3.0, 0.0, 3.0, 0.0, 0.0, 0.0, 0.0, 0.0, 0.0, 0.0, 0.0, 0.0, 0.0, 0.0, 0.0, 0.0, 0.0, 0.0, 0.0, 0.0, 0.0, 0.0, 4.0, 0.0, 0.0, 0.0, 0.0, 0.0, 0.0, 0.0, 4.0, 3.0, 0.0, 0.0, 0.0, 0.0, 0.0, 2.0, 0.0, 0.0, 0.0, 0.0, 0.0, 0.0, 0.0, 0.0, 4.0, 0.0, 0.0, 0.0, 0.0, 0.0, 0.0, 0.0, 0.0, 0.0, 0.0, 0.0, 0.0, 0.0, 0.0, 0.0, 0.0, 0.0, 0.0, 0.0, 0.0, 0.0, 0.0, 0.0, 0.0, 0.0, 0.0, 0.0, 0.0, 0.0, 0.0, 0.0, 0.0, 0.0, 0.0, 0.0, 0.0, 0.0, 0.0, 0.0, 0.0, 0.0, 0.0, 0.0, 0.0, 0.0, 0.0, 0.0, 0.0, 0.0, 0.0, 0.0, 0.0, 0.0, 0.0, 0.0, 0.0, 0.0, 0.0, 0.0, 0.0, 0.0, 0.0, 0.0, 0.0, 0.0, 0.0, 0.0, 0.0, 0.0, 0.0, 0.0, 0.0, 0.0, 0.0, 0.0, 0.0, 0.0, 0.0, 0.0, 0.0, 0.0, 0.0, 0.0, 0.0, 0.0, 0.0, 0.0, 5.0, 0.0, 0.0, 0.0, 0.0, 0.0, 0.0, 0.0, 0.0, 0.0, 0.0, 0.0, 0.0, 1.0, 0.0, 5.0, 0.0, 0.0, 0.0, 0.0, 0.0, 0.0, 0.0, 0.0, 0.0, 0.0, 0.0, 0.0, 0.0, 0.0, 0.0, 0.0, 0.0, 0.0, 0.0, 0.0, 0.0, 0.0, 0.0, 0.0, 0.0, 0.0, 0.0, 0.0, 0.0, 0.0, 0.0, 0.0, 0.0, 0.0, 0.0, 0.0, 0.0, 0.0, 0.0, 0.0, 0.0, 0.0, 0.0, 0.0, 0.0, 0.0, 0.0, 0.0, 0.0, 0.0, 0.0, 0.0, 0.0, 0.0, 0.0, 0.0, 0.0, 0.0, 0.0, 0.0, 0.0, 0.0, 0.0, 0.0, 0.0, 0.0, 0.0, 2.0, 0.0, 0.0, 0.0, 0.0, 0.0, 0.0, 0.0, 0.0, 0.0, 0.0, 0.0, 0.0, 0.0, 0.0, 0.0, 0.0, 2.0, 0.0, 0.0, 0.0, 0.0, 0.0, 0.0, 0.0, 0.0, 0.0, 0.0, 0.0, 0.0, 0.0, 0.0, 0.0, 3.0, 0.0, 0.0, 2.0, 0.0, 0.0, 0.0, 0.0, 0.0, 0.0, 0.0, 0.0, 0.0, 0.0, 0.0, 0.0, 0.0, 0.0, 0.0, 0.0, 0.0, 0.0, 0.0, 0.0, 0.0, 0.0, 0.0, 0.0, 0.0, 0.0, 4.0, 0.0, 0.0, 0.0, 0.0, 0.0, 0.0, 0.0, 0.0, 0.0, 0.0, 0.0, 0.0, 0.0, 0.0, 0.0, 0.0, 0.0, 0.0, 0.0, 0.0, 0.0, 0.0, 0.0, 0.0, 0.0, 0.0, 0.0, 0.0, 0.0, 0.0, 0.0, 0.0, 0.0, 0.0, 0.0, 0.0, 0.0, 0.0, 0.0, 0.0, 0.0, 0.0, 0.0, 0.0, 0.0, 0.0, 0.0, 0.0, 0.0, 0.0, 0.0, 0.0, 0.0, 0.0, 0.0, 0.0, 0.0, 0.0, 0.0, 0.0, 0.0, 0.0, 0.0, 0.0, 0.0, 0.0, 0.0, 0.0, 0.0, 0.0, 0.0, 0.0, 0.0, 0.0, 0.0, 0.0, 0.0, 0.0, 0.0, 0.0, 0.0, 0.0, 0.0, 0.0, 0.0, 0.0, 0.0, 0.0, 0.0, 0.0, 0.0, 0.0, 0.0, 0.0, 0.0, 0.0, 0.0, 0.0, 0.0, 0.0, 0.0, 0.0, 0.0, 0.0, 0.0, 0.0, 0.0, 0.0, 0.0, 0.0, 0.0, 0.0, 0.0, 3.0, 0.0, 0.0, 0.0, 0.0, 0.0, 0.0, 0.0, 0.0, 0.0, 0.0, 0.0, 0.0, 0.0, 0.0, 0.0, 0.0, 0.0, 0.0, 0.0, 0.0, 0.0, 0.0, 0.0, 0.0, 0.0, 0.0, 0.0, 0.0, 0.0, 0.0, 0.0, 0.0, 0.0, 0.0, 0.0, 0.0, 0.0, 0.0, 0.0, 3.0, 0.0, 0.0, 0.0, 0.0, 0.0, 0.0, 0.0, 0.0, 0.0, 0.0, 0.0, 0.0, 0.0, 0.0, 0.0, 0.0, 0.0, 0.0, 0.0, 0.0, 0.0, 0.0, 0.0, 0.0, 0.0, 0.0, 0.0, 0.0, 0.0, 0.0, 0.0, 0.0, 0.0, 0.0, 0.0, 0.0, 0.0, 0.0, 0.0, 0.0, 0.0, 0.0, 0.0, 0.0, 0.0, 0.0, 0.0, 0.0, 0.0, 0.0, 0.0, 0.0, 0.0, 0.0, 0.0, 0.0, 0.0, 0.0, 0.0, 0.0, 0.0, 0.0, 0.0, 0.0, 0.0, 0.0, 0.0, 0.0, 0.0, 0.0, 0.0, 0.0, 0.0, 0.0, 0.0, 0.0, 0.0, 0.0, 0.0, 0.0, 0.0, 0.0, 0.0, 0.0, 0.0, 0.0, 0.0, 0.0, 0.0, 0.0, 0.0, 0.0, 0.0, 0.0, 0.0, 0.0, 0.0, 0.0, 0.0, 0.0, 0.0, 3.0, 0.0, 0.0, 0.0, 0.0, 0.0, 0.0, 0.0, 0.0, 0.0, 0.0, 0.0, 0.0, 0.0, 0.0, 0.0, 0.0, 0.0, 0.0, 0.0, 0.0, 0.0, 0.0, 0.0, 0.0, 0.0, 0.0, 0.0, 0.0, 0.0, 0.0, 0.0, 0.0, 0.0, 0.0, 0.0, 0.0, 0.0, 0.0, 0.0, 0.0, 0.0, 0.0, 0.0, 0.0, 0.0, 0.0, 0.0, 0.0, 0.0, 0.0, 0.0, 0.0, 0.0, 0.0, 0.0, 0.0, 0.0, 0.0, 0.0, 0.0, 0.0, 0.0, 0.0, 0.0, 0.0, 0.0, 0.0, 0.0, 0.0, 0.0, 0.0, 0.0, 0.0, 0.0, 0.0, 0.0, 0.0, 0.0, 0.0, 0.0, 0.0, 0.0, 0.0, 0.0, 0.0, 0.0, 0.0, 0.0, 0.0, 0.0, 0.0, 0.0, 0.0, 0.0, 0.0, 0.0, 0.0, 0.0, 0.0, 0.0, 0.0, 0.0, 0.0, 0.0, 0.0, 0.0, 0.0, 0.0, 0.0, 0.0, 0.0, 0.0, 0.0, 0.0, 0.0, 0.0, 0.0, 0.0, 0.0, 0.0, 0.0, 0.0, 0.0, 0.0, 0.0, 0.0, 0.0, 0.0, 0.0, 0.0, 0.0, 0.0, 0.0, 0.0, 0.0, 0.0, 0.0, 0.0, 0.0, 0.0, 0.0, 0.0, 0.0, 0.0, 0.0, 0.0, 0.0, 0.0, 0.0, 0.0, 0.0, 0.0, 0.0, 0.0, 0.0, 0.0, 0.0, 0.0, 0.0, 0.0, 0.0, 0.0, 0.0, 0.0, 0.0, 0.0, 0.0, 0.0, 0.0, 0.0, 0.0, 0.0, 0.0, 0.0, 0.0, 0.0, 0.0, 0.0, 0.0, 0.0, 0.0, 0.0, 0.0, 0.0, 0.0, 0.0, 0.0, 0.0, 0.0, 0.0, 0.0, 0.0, 0.0, 0.0, 0.0, 0.0, 0.0, 0.0, 0.0, 0.0, 0.0, 0.0, 0.0, 0.0, 0.0, 0.0, 0.0, 0.0, 0.0, 0.0, 0.0, 0.0, 0.0, 0.0, 0.0, 0.0, 0.0, 0.0, 0.0, 0.0, 0.0, 0.0, 0.0, 0.0, 0.0, 0.0, 0.0, 0.0, 0.0, 0.0, 0.0, 0.0, 0.0, 0.0, 0.0, 0.0, 0.0, 0.0, 0.0, 0.0, 0.0, 0.0, 0.0, 0.0, 0.0, 0.0, 0.0, 0.0, 0.0, 0.0, 0.0, 0.0, 0.0, 0.0, 0.0, 0.0, 0.0, 0.0, 0.0, 0.0, 0.0, 0.0, 0.0, 0.0, 0.0, 0.0, 0.0, 0.0, 0.0, 0.0, 0.0, 0.0, 0.0, 0.0, 0.0, 0.0, 0.0, 0.0, 0.0, 0.0, 0.0, 0.0, 0.0, 0.0, 0.0, 0.0, 0.0, 0.0, 0.0, 0.0, 0.0, 0.0, 0.0, 0.0, 0.0, 0.0, 0.0, 0.0, 0.0, 0.0, 0.0, 0.0, 0.0, 0.0, 0.0, 0.0, 0.0, 0.0, 0.0, 0.0, 0.0, 0.0, 0.0, 0.0, 0.0, 0.0, 0.0, 0.0, 0.0, 0.0, 0.0, 0.0, 0.0, 0.0, 0.0, 0.0, 0.0, 0.0, 0.0, 0.0, 0.0, 0.0, 0.0, 0.0, 0.0, 0.0, 0.0, 0.0, 0.0, 0.0, 0.0, 0.0, 0.0, 0.0, 0.0, 0.0, 0.0, 0.0, 0.0, 0.0, 0.0, 0.0] \n",
      "\n",
      "[0.0, 0.0, 0.0, 0.0, 0.0, 0.0, 0.0, 0.0, 0.0, 0.0, 0.0, 0.0, 0.0, 0.0, 0.0, 0.0, 0.0, 0.0, 0.0, 0.0, 0.0, 0.0, 0.0, 0.0, 0.0, 0.0, 0.0, 0.0, 0.0, 0.0, 0.0, 0.0, 0.0, 0.0, 0.0, 0.0, 0.0, 0.0, 0.0, 0.0, 0.0, 0.0, 0.0, 0.0, 4.0, 0.0, 0.0, 0.0, 0.0, 4.0, 0.0, 0.0, 0.0, 0.0, 0.0, 0.0, 0.0, 0.0, 0.0, 0.0, 0.0, 0.0, 0.0, 0.0, 0.0, 0.0, 0.0, 0.0, 0.0, 0.0, 0.0, 0.0, 0.0, 0.0, 0.0, 0.0, 0.0, 0.0, 0.0, 0.0, 0.0, 0.0, 0.0, 0.0, 0.0, 0.0, 0.0, 0.0, 0.0, 0.0, 0.0, 0.0, 0.0, 0.0, 0.0, 0.0, 0.0, 0.0, 0.0, 0.0, 0.0, 0.0, 0.0, 0.0, 0.0, 0.0, 0.0, 0.0, 0.0, 0.0, 0.0, 0.0, 0.0, 0.0, 0.0, 0.0, 0.0, 0.0, 0.0, 0.0, 0.0, 0.0, 0.0, 0.0, 0.0, 0.0, 0.0, 0.0, 0.0, 0.0, 0.0, 0.0, 0.0, 0.0, 0.0, 0.0, 0.0, 0.0, 0.0, 0.0, 0.0, 0.0, 0.0, 0.0, 0.0, 0.0, 0.0, 0.0, 0.0, 0.0, 0.0, 0.0, 0.0, 0.0, 0.0, 0.0, 0.0, 0.0, 0.0, 0.0, 0.0, 0.0, 0.0, 0.0, 0.0, 0.0, 0.0, 0.0, 0.0, 0.0, 0.0, 0.0, 5.0, 0.0, 0.0, 0.0, 0.0, 0.0, 0.0, 0.0, 0.0, 0.0, 0.0, 0.0, 0.0, 0.0, 0.0, 0.0, 0.0, 0.0, 0.0, 0.0, 0.0, 0.0, 0.0, 0.0, 0.0, 0.0, 0.0, 0.0, 0.0, 0.0, 0.0, 0.0, 0.0, 0.0, 0.0, 0.0, 0.0, 0.0, 0.0, 0.0, 0.0, 0.0, 0.0, 0.0, 0.0, 0.0, 0.0, 0.0, 0.0, 0.0, 0.0, 0.0, 0.0, 0.0, 0.0, 0.0, 0.0, 0.0, 0.0, 0.0, 0.0, 0.0, 0.0, 0.0, 0.0, 0.0, 0.0, 0.0, 0.0, 0.0, 0.0, 0.0, 0.0, 0.0, 0.0, 0.0, 0.0, 0.0, 0.0, 0.0, 0.0, 0.0, 0.0, 0.0, 0.0, 5.0, 0.0, 0.0, 0.0, 0.0, 0.0, 0.0, 0.0, 0.0, 0.0, 0.0, 0.0, 0.0, 0.0, 0.0, 0.0, 0.0, 0.0, 0.0, 0.0, 0.0, 0.0, 0.0, 0.0, 0.0, 0.0, 0.0, 0.0, 0.0, 0.0, 0.0, 0.0, 0.0, 0.0, 0.0, 0.0, 0.0, 0.0, 0.0, 0.0, 0.0, 0.0, 0.0, 0.0, 0.0, 0.0, 0.0, 0.0, 0.0, 0.0, 0.0, 0.0, 0.0, 0.0, 0.0, 0.0, 0.0, 0.0, 0.0, 0.0, 0.0, 4.0, 0.0, 0.0, 0.0, 0.0, 0.0, 0.0, 0.0, 0.0, 0.0, 0.0, 0.0, 0.0, 0.0, 0.0, 0.0, 0.0, 0.0, 0.0, 0.0, 0.0, 0.0, 0.0, 0.0, 0.0, 0.0, 0.0, 0.0, 0.0, 0.0, 0.0, 0.0, 0.0, 0.0, 0.0, 0.0, 0.0, 0.0, 0.0, 0.0, 0.0, 0.0, 0.0, 0.0, 0.0, 0.0, 0.0, 0.0, 0.0, 0.0, 0.0, 0.0, 0.0, 0.0, 0.0, 0.0, 0.0, 0.0, 0.0, 0.0, 0.0, 0.0, 0.0, 0.0, 0.0, 0.0, 0.0, 0.0, 0.0, 0.0, 0.0, 0.0, 0.0, 0.0, 0.0, 0.0, 0.0, 0.0, 0.0, 0.0, 0.0, 0.0, 0.0, 0.0, 0.0, 0.0, 0.0, 0.0, 0.0, 0.0, 0.0, 0.0, 0.0, 0.0, 0.0, 0.0, 0.0, 0.0, 0.0, 0.0, 0.0, 0.0, 0.0, 0.0, 0.0, 0.0, 0.0, 0.0, 0.0, 0.0, 0.0, 0.0, 0.0, 0.0, 0.0, 0.0, 0.0, 0.0, 0.0, 0.0, 0.0, 0.0, 0.0, 0.0, 0.0, 0.0, 0.0, 0.0, 0.0, 0.0, 0.0, 0.0, 0.0, 0.0, 0.0, 0.0, 0.0, 0.0, 0.0, 0.0, 0.0, 0.0, 0.0, 0.0, 0.0, 0.0, 0.0, 0.0, 0.0, 0.0, 0.0, 0.0, 0.0, 0.0, 0.0, 0.0, 0.0, 0.0, 0.0, 0.0, 5.0, 0.0, 0.0, 0.0, 0.0, 3.0, 0.0, 0.0, 0.0, 0.0, 0.0, 0.0, 0.0, 0.0, 0.0, 0.0, 0.0, 0.0, 0.0, 0.0, 4.0, 0.0, 0.0, 0.0, 0.0, 0.0, 0.0, 0.0, 0.0, 0.0, 0.0, 0.0, 0.0, 0.0, 0.0, 0.0, 0.0, 0.0, 0.0, 0.0, 0.0, 0.0, 0.0, 0.0, 0.0, 0.0, 0.0, 0.0, 0.0, 0.0, 0.0, 0.0, 0.0, 0.0, 0.0, 0.0, 0.0, 0.0, 0.0, 0.0, 0.0, 0.0, 0.0, 0.0, 0.0, 0.0, 0.0, 0.0, 0.0, 0.0, 0.0, 0.0, 0.0, 0.0, 0.0, 0.0, 0.0, 0.0, 0.0, 0.0, 0.0, 0.0, 0.0, 0.0, 0.0, 0.0, 0.0, 0.0, 0.0, 0.0, 0.0, 0.0, 0.0, 0.0, 0.0, 0.0, 0.0, 0.0, 0.0, 0.0, 0.0, 0.0, 0.0, 0.0, 0.0, 0.0, 0.0, 0.0, 0.0, 0.0, 0.0, 0.0, 0.0, 0.0, 0.0, 0.0, 0.0, 0.0, 0.0, 0.0, 0.0, 0.0, 0.0, 0.0, 0.0, 0.0, 0.0, 0.0, 0.0, 0.0, 0.0, 0.0, 0.0, 0.0, 0.0, 0.0, 0.0, 0.0, 0.0, 0.0, 0.0, 0.0, 0.0, 0.0, 0.0, 0.0, 0.0, 0.0, 0.0, 0.0, 0.0, 0.0, 0.0, 0.0, 0.0, 0.0, 0.0, 0.0, 0.0, 0.0, 0.0, 0.0, 0.0, 0.0, 0.0, 0.0, 0.0, 0.0, 0.0, 0.0, 0.0, 0.0, 0.0, 0.0, 0.0, 5.0, 0.0, 0.0, 0.0, 0.0, 0.0, 0.0, 0.0, 0.0, 0.0, 0.0, 0.0, 0.0, 0.0, 0.0, 0.0, 0.0, 0.0, 0.0, 0.0, 0.0, 0.0, 0.0, 0.0, 0.0, 0.0, 0.0, 0.0, 0.0, 0.0, 0.0, 0.0, 0.0, 0.0, 0.0, 0.0, 3.0, 0.0, 0.0, 0.0, 0.0, 0.0, 0.0, 0.0, 0.0, 0.0, 0.0, 0.0, 0.0, 0.0, 0.0, 0.0, 0.0, 0.0, 0.0, 0.0, 0.0, 0.0, 0.0, 0.0, 0.0, 0.0, 0.0, 0.0, 0.0, 0.0, 0.0, 0.0, 0.0, 0.0, 0.0, 0.0, 0.0, 0.0, 0.0, 0.0, 0.0, 0.0, 0.0, 0.0, 0.0, 0.0, 0.0, 0.0, 0.0, 0.0, 0.0, 0.0, 0.0, 0.0, 0.0, 0.0, 0.0, 0.0, 0.0, 0.0, 0.0, 0.0, 0.0, 0.0, 0.0, 0.0, 0.0, 0.0, 0.0, 0.0, 0.0, 0.0, 0.0, 0.0, 0.0, 0.0, 0.0, 0.0, 0.0, 0.0, 0.0, 0.0, 0.0, 0.0, 0.0, 0.0, 0.0, 0.0, 0.0, 0.0, 0.0, 0.0, 0.0, 0.0, 0.0, 0.0, 0.0, 0.0, 0.0, 0.0, 0.0, 0.0, 0.0, 0.0, 0.0, 0.0, 0.0, 0.0, 0.0, 0.0, 0.0, 0.0, 0.0, 0.0, 0.0, 0.0, 0.0, 0.0, 0.0, 0.0, 0.0, 0.0, 0.0, 0.0, 0.0, 0.0, 0.0, 0.0, 0.0, 0.0, 0.0, 0.0, 0.0, 0.0, 0.0, 0.0, 0.0, 0.0, 0.0, 0.0, 0.0, 0.0, 0.0, 0.0, 0.0, 0.0, 0.0, 0.0, 0.0, 0.0, 0.0, 0.0, 0.0, 0.0, 0.0, 0.0, 0.0, 0.0, 0.0, 0.0, 0.0, 0.0, 0.0, 0.0, 0.0, 0.0, 0.0, 0.0, 0.0, 0.0, 0.0, 0.0, 0.0, 0.0, 0.0, 0.0, 0.0, 0.0, 0.0, 0.0, 0.0, 0.0, 0.0, 0.0, 0.0, 0.0, 0.0, 0.0, 0.0, 0.0, 0.0, 0.0, 0.0, 0.0, 0.0, 0.0, 0.0, 0.0, 0.0, 0.0, 0.0, 0.0, 0.0, 0.0, 0.0, 0.0, 0.0, 0.0, 0.0, 0.0, 0.0, 0.0, 0.0, 0.0, 0.0, 0.0, 0.0, 0.0, 0.0, 0.0, 0.0, 0.0, 0.0, 0.0, 0.0, 0.0, 0.0, 0.0, 0.0, 0.0, 0.0, 0.0, 0.0, 0.0, 0.0, 0.0, 0.0, 0.0, 0.0, 0.0, 0.0, 0.0, 0.0, 0.0, 0.0, 0.0, 0.0, 0.0, 0.0, 0.0, 0.0, 0.0, 0.0, 0.0, 0.0, 0.0, 0.0, 0.0, 0.0, 0.0, 0.0, 0.0, 0.0, 0.0, 0.0, 0.0, 0.0, 0.0, 0.0, 0.0, 0.0, 0.0, 0.0, 0.0, 0.0, 0.0, 0.0, 0.0, 0.0, 0.0, 0.0, 0.0, 0.0, 0.0, 0.0, 0.0, 0.0, 0.0, 0.0, 0.0, 0.0, 0.0, 0.0, 0.0, 0.0, 0.0, 0.0, 0.0, 0.0, 0.0, 0.0, 0.0, 0.0, 0.0, 0.0, 0.0, 0.0, 0.0, 0.0, 0.0, 0.0, 0.0, 0.0, 0.0, 0.0, 0.0, 0.0, 0.0, 0.0, 0.0, 0.0, 0.0, 0.0, 0.0, 0.0, 0.0, 0.0, 0.0, 0.0, 0.0, 0.0, 0.0, 0.0, 0.0, 0.0, 0.0, 0.0, 0.0, 0.0, 0.0, 0.0, 0.0, 0.0, 0.0, 0.0, 0.0, 0.0, 0.0, 0.0, 0.0, 0.0, 0.0, 0.0, 0.0, 0.0, 0.0, 0.0, 0.0, 0.0, 0.0, 0.0, 0.0, 0.0, 0.0, 0.0, 0.0, 0.0, 0.0, 0.0, 0.0, 0.0, 0.0, 0.0, 0.0, 0.0, 0.0, 0.0, 0.0, 0.0, 0.0, 0.0, 0.0, 0.0, 0.0, 0.0, 0.0, 0.0, 0.0, 0.0, 0.0, 0.0, 0.0, 0.0, 0.0, 0.0, 0.0, 0.0, 0.0, 0.0, 0.0, 0.0, 0.0, 0.0, 0.0, 0.0, 0.0, 0.0, 0.0, 0.0, 0.0, 0.0, 0.0, 0.0, 0.0, 0.0, 0.0, 0.0, 0.0, 0.0, 0.0, 0.0, 0.0, 0.0, 0.0, 0.0, 0.0, 0.0, 0.0, 0.0, 0.0, 0.0, 0.0, 0.0, 0.0, 0.0, 0.0, 0.0, 0.0, 0.0, 0.0, 0.0, 0.0, 0.0, 0.0, 0.0, 0.0, 0.0, 0.0, 0.0, 0.0, 0.0, 0.0, 0.0, 0.0, 0.0, 0.0, 0.0, 0.0, 0.0, 0.0, 0.0, 0.0, 0.0, 0.0, 0.0, 0.0, 0.0, 0.0, 0.0, 0.0, 0.0, 0.0, 0.0, 0.0, 0.0, 0.0, 0.0, 0.0, 0.0, 0.0, 0.0, 0.0, 0.0, 0.0, 0.0, 0.0, 0.0, 0.0, 0.0, 0.0, 0.0, 0.0, 0.0, 0.0, 0.0, 0.0, 0.0, 0.0, 0.0, 0.0, 0.0, 0.0, 0.0, 0.0, 0.0, 0.0, 0.0, 0.0, 0.0, 0.0, 0.0, 0.0, 0.0, 0.0, 0.0, 0.0, 0.0, 0.0, 0.0, 0.0, 0.0, 0.0, 0.0, 0.0, 0.0, 0.0, 0.0, 0.0, 0.0, 0.0, 0.0, 0.0, 0.0, 0.0, 0.0, 0.0, 0.0, 0.0, 0.0, 0.0, 0.0, 0.0, 0.0, 0.0, 0.0, 0.0, 0.0, 0.0, 0.0, 0.0, 0.0, 0.0, 0.0, 0.0, 0.0, 0.0, 0.0, 0.0, 0.0, 0.0, 0.0, 0.0, 0.0, 0.0, 0.0, 0.0, 0.0, 0.0, 0.0, 0.0, 0.0, 0.0, 0.0, 0.0, 0.0, 0.0, 0.0, 0.0, 0.0, 0.0, 0.0, 0.0, 0.0, 0.0, 0.0, 0.0, 0.0, 0.0, 0.0, 0.0, 0.0, 0.0, 0.0, 0.0, 0.0, 0.0, 0.0, 0.0, 0.0, 0.0, 0.0, 0.0, 0.0, 0.0, 0.0, 0.0, 0.0, 0.0, 0.0, 0.0, 0.0, 0.0, 0.0, 0.0, 0.0, 0.0, 0.0, 0.0, 0.0, 0.0, 0.0, 0.0, 0.0, 0.0, 0.0, 0.0, 0.0, 0.0, 0.0, 0.0, 0.0, 0.0, 0.0, 0.0, 0.0, 0.0, 0.0, 0.0, 0.0, 0.0, 0.0, 0.0, 0.0, 0.0, 0.0, 0.0, 0.0, 0.0, 0.0, 0.0, 0.0, 0.0, 0.0, 0.0, 0.0, 0.0, 0.0, 0.0, 0.0, 0.0, 0.0, 0.0, 0.0, 0.0, 0.0, 0.0, 0.0, 0.0, 0.0, 0.0, 0.0, 0.0, 0.0, 0.0, 0.0, 0.0, 0.0, 0.0, 0.0, 0.0, 0.0, 0.0, 0.0, 0.0, 0.0, 0.0, 0.0, 0.0, 0.0, 0.0, 0.0, 0.0, 0.0, 0.0, 0.0, 0.0, 0.0, 0.0, 0.0, 0.0, 0.0, 0.0, 0.0, 0.0, 0.0, 0.0, 0.0, 0.0, 0.0, 0.0, 0.0, 0.0, 0.0, 0.0, 0.0, 0.0, 0.0, 0.0, 0.0, 0.0, 0.0, 0.0, 0.0, 0.0, 0.0, 0.0, 0.0, 0.0, 0.0, 0.0, 0.0, 0.0, 0.0, 0.0, 0.0, 0.0, 0.0, 0.0, 0.0, 0.0, 0.0, 0.0, 0.0, 0.0, 0.0, 0.0, 0.0, 0.0, 0.0, 0.0, 0.0, 0.0, 0.0, 0.0, 0.0, 0.0, 0.0, 0.0, 0.0, 0.0, 0.0, 0.0, 0.0, 0.0, 0.0, 0.0, 0.0, 0.0, 0.0, 0.0, 0.0, 0.0, 0.0, 0.0, 0.0, 0.0, 0.0, 0.0, 0.0, 0.0, 0.0, 0.0, 0.0, 0.0, 0.0, 0.0, 0.0, 0.0, 0.0, 0.0, 0.0, 0.0, 0.0, 0.0, 0.0, 0.0, 0.0, 0.0, 0.0, 0.0, 0.0, 0.0, 0.0, 0.0, 0.0, 0.0, 0.0, 0.0, 0.0, 0.0, 0.0, 0.0, 0.0, 0.0, 0.0, 0.0, 0.0, 0.0, 0.0, 0.0, 0.0, 0.0, 0.0, 0.0, 0.0, 0.0, 0.0, 0.0, 0.0, 0.0, 0.0, 0.0, 0.0, 0.0, 0.0, 0.0, 0.0, 0.0, 0.0, 0.0, 0.0, 0.0, 0.0, 0.0, 0.0, 0.0, 0.0, 0.0, 0.0, 0.0, 0.0, 0.0, 0.0, 0.0, 0.0, 0.0, 0.0, 0.0, 0.0, 0.0, 0.0, 0.0, 0.0, 0.0, 0.0, 0.0, 0.0, 0.0, 0.0, 0.0, 0.0, 0.0, 0.0, 0.0, 0.0, 0.0, 0.0, 0.0, 0.0, 0.0, 0.0, 0.0, 0.0, 0.0, 0.0, 0.0, 0.0, 0.0, 0.0, 0.0, 0.0, 0.0, 0.0, 0.0, 0.0, 0.0, 0.0, 0.0, 0.0, 0.0, 0.0, 0.0, 0.0, 0.0, 0.0, 0.0, 0.0, 0.0, 0.0, 0.0, 0.0, 0.0, 0.0, 0.0, 0.0, 0.0, 0.0, 0.0, 0.0, 0.0, 0.0, 0.0, 0.0, 0.0, 0.0, 0.0, 0.0, 0.0, 0.0, 0.0, 0.0, 0.0, 0.0, 0.0, 0.0, 0.0, 0.0, 0.0, 0.0, 0.0, 0.0, 0.0, 0.0, 0.0, 0.0, 0.0, 0.0, 0.0, 0.0, 0.0, 0.0, 0.0, 0.0, 0.0, 0.0, 0.0, 0.0, 0.0, 0.0, 0.0, 0.0, 0.0, 0.0, 0.0, 0.0, 0.0, 0.0, 0.0, 0.0, 0.0, 0.0, 0.0, 0.0, 0.0, 0.0, 0.0, 0.0, 0.0, 0.0, 0.0, 0.0, 0.0, 0.0, 0.0, 0.0, 0.0, 0.0, 0.0, 0.0, 0.0, 0.0, 0.0, 0.0] \n",
      "\n"
     ]
    }
   ],
   "source": [
    "print([element for element in A_uabase[942]],'\\n')\n",
    "print([element for element in A_uatest[798]],'\\n')"
   ]
  },
  {
   "cell_type": "markdown",
   "metadata": {},
   "source": [
    "### We are ready to build a recommender system based on the training data, with the following baseline predictor for a (u,i) pair:\n",
    "### b_ui = μ + b_u + b_i, where:\n",
    "### 1) μ = the global average rating across all movies and users\n",
    "### 2) bu and bi = the deviations of user u and movie i, respectively, from the average.\n",
    "### For instance, let (u, i) = (Charlie, \"Shindler's List\"). Further, assume that the global average rating is μ = 3.5 stars. Further assume \"Shinder's List\"s average rating across all users is 0.7 stars above the global average. Finally, assume that Charlie is rather harsh when it comes to rating movies, and his average rating across all movies is 0.3 stars lower than the global average. Then, the estimated (predicted) rating by Charlie of the movie \"Shindler's List\" would be: b_ui = μ + b_u + b_i = 3.5 + (-0.3) + 0.7 = 3.9 stars.\n",
    "### We will compute μ, b_u and b_i in accordance with the formulas shown on p. 148-149 of the book \"Recommender Systems Handbook\" by Francesco Ricci, Lior Rokach, Bracha Shapira, and Paul B. Kantor (2011).\n",
    "### First, we compute μ as follows:"
   ]
  },
  {
   "cell_type": "code",
   "execution_count": 15,
   "metadata": {},
   "outputs": [
    {
     "name": "stdout",
     "output_type": "stream",
     "text": [
      "Avg. rating across all movies for ua.base: 3.5238268742409184\n"
     ]
    }
   ],
   "source": [
    "# Computes μ, the global average rating across all movies and users for a given dataframe file\n",
    "# @param df: a dataframe file e.g. df_uabase. It is assumed that df has a column named 'Rating'\n",
    "def compute_mu(df):\n",
    "    # take the mean of ALL the elements in the column titled 'Rating'. This is the global average rating.\n",
    "    return np.mean(df['Rating'].values)\n",
    "\n",
    "# Call the custom method to compute μ for the training files.\n",
    "mu_uabase = compute_mu(df_uabase)\n",
    "\n",
    "print(\"Avg. rating across all movies for ua.base: {}\".format(mu_uabase))"
   ]
  },
  {
   "cell_type": "markdown",
   "metadata": {},
   "source": [
    "### Second, we compute b_i:"
   ]
  },
  {
   "cell_type": "code",
   "execution_count": 16,
   "metadata": {
    "collapsed": true
   },
   "outputs": [],
   "source": [
    "'''\n",
    "Compute b_i:\n",
    "\n",
    "        sum_{u /in R[i]} (r_ui - mu) \n",
    "b_i =   ----------------------------\n",
    "             lambda_2 + |R[i]|\n",
    "\n",
    "where:\n",
    "R[i] = set of users who rated movie item i\n",
    "r_ui = the rating that user u gave to movie i\n",
    "mu = the global average rating across all movies and users\n",
    "lambda_2 = regularization parameter to avoid overfitting. We use a value of 25.\n",
    "|R[i]| = no. of users who rated movie item i\n",
    "\n",
    "'''\n",
    "# @param A: a preprocessing matrix pertaining to a training file (e.g. ua.base), where\n",
    "#           A[u][i] = the rating (1-5) that userindex u gave to movieindex i.\n",
    "#           Note: if A[u][i] = 0, then the user didn't rate the movie.\n",
    "# @param mu: the global average rating across all movies and users for the training file represented by A\n",
    "# @param lambda_2: regularization parameter to avoid overfitting, etc. Set to 25 by default.\n",
    "def compute_bi(A, mu, lambda_2 = 25):\n",
    "    A_tr = A.transpose()\n",
    "    total_num_movies = len(A_tr)\n",
    "    b_i = np.zeros(total_num_movies)\n",
    "    for i in range(total_num_movies):\n",
    "        list_of_ratings_that_exist_for_movie_item_i = A_tr[i][A_tr[i, :] > 0]\n",
    "        numerator = np.sum(list_of_ratings_that_exist_for_movie_item_i - mu)\n",
    "        denominator = lambda_2 + len(list_of_ratings_that_exist_for_movie_item_i)\n",
    "        b_i[i] = numerator / denominator\n",
    "    return b_i\n",
    "\n",
    "b_i_uabase = compute_bi(A_uabase, mu_uabase)"
   ]
  },
  {
   "cell_type": "markdown",
   "metadata": {},
   "source": [
    "### Third, we compute b_u:"
   ]
  },
  {
   "cell_type": "code",
   "execution_count": 17,
   "metadata": {},
   "outputs": [],
   "source": [
    "'''\n",
    "Compute b_u:\n",
    "\n",
    "       sum_{i /in R[u]} (r_ui - mu - b_i)\n",
    "b_u =  ----------------------------------\n",
    "             lambda_3 + |R[u]|\n",
    "\n",
    "where:\n",
    "R[u] = set of movies that were rated by user u\n",
    "r_ui = the rating that user u gave to movie i\n",
    "mu = the global average rating across all movies and users\n",
    "b_i = defined above\n",
    "lambda_3 = regularization parameter to avoid overfitting. We use a value of 10.\n",
    "|R[u]| = no. of movies that were rated by user u\n",
    "'''\n",
    "# @param A: a preprocessing matrix pertaining to a training file (e.g. ua.base), where\n",
    "#           A[u][i] = the rating (1-5) that userindex u gave to movieindex i.\n",
    "#           Note: if A[u][i] = 0, then the user didn't rate the movie.\n",
    "# @param mu: the global average rating across all movies and users for the training file represented by A\n",
    "# @param b_i: a vector containing the deviations of each movie from the global average, mu.\n",
    "# @param lambda_3: regularization parameter to avoid overfitting, etc. Set to 10 by default.\n",
    "def compute_bu(A, mu, b_i, lambda_3 = 10):\n",
    "    total_num_users = len(A)\n",
    "    b_u = np.zeros(total_num_users)\n",
    "    for u in range(total_num_users):\n",
    "        movie_indices_rated_by_u = [i for i in range(len(A[u])) if A[u][i] > 0]\n",
    "        numerator = np.sum((A[u][movie_indices_rated_by_u] - mu - b_i[movie_indices_rated_by_u]))\n",
    "        denominator = lambda_3 + len(movie_indices_rated_by_u)\n",
    "        b_u[u] = numerator / denominator\n",
    "    return b_u\n",
    "\n",
    "b_u_uabase = compute_bu(A_uabase, mu_uabase, b_i_uabase)"
   ]
  },
  {
   "cell_type": "markdown",
   "metadata": {},
   "source": [
    "### Finally, we build the recommender system matrix R."
   ]
  },
  {
   "cell_type": "code",
   "execution_count": 18,
   "metadata": {
    "collapsed": true
   },
   "outputs": [],
   "source": [
    "'''Build recommender system'''\n",
    "def buildRecommenderSys(mu, b_u, b_i):\n",
    "    total_num_users = len(b_u)\n",
    "    total_num_movies = len(b_i)\n",
    "    R = np.zeros((total_num_users, total_num_movies))\n",
    "    for u in range(total_num_users):\n",
    "        for i in range(total_num_movies):\n",
    "            R[u][i] = mu + b_u[u] + b_i[i]\n",
    "    return R\n",
    "\n",
    "R_ua = buildRecommenderSys(mu_uabase, b_u_uabase, b_i_uabase)"
   ]
  },
  {
   "cell_type": "markdown",
   "metadata": {},
   "source": [
    "### Now that we have a recommender system built, let us check the overall RMSE by comparing the predicted ratings with the actual ratings in the test set. The RMSE should be approximately equal to 0.96648."
   ]
  },
  {
   "cell_type": "code",
   "execution_count": 19,
   "metadata": {},
   "outputs": [
    {
     "name": "stdout",
     "output_type": "stream",
     "text": [
      "0.966481783888\n"
     ]
    }
   ],
   "source": [
    "def compute_overall_RMSE(R, np_test):\n",
    "    summation = 0.0\n",
    "    for row in np_test:\n",
    "        userID = row[0] - 1\n",
    "        movieID = row[1] - 1\n",
    "        rating = row[2]\n",
    "#         print(userID, movieID, rating, R[userID][movieID])\n",
    "        if(R[userID][movieID] == 0):\n",
    "            print(\"R[u][i] = 0!\")\n",
    "        summation += ((R[userID][movieID] - rating) ** 2)\n",
    "#         print(\"(R[userID][movieID] - rating) ** 2 = {}\".format((R[userID][movieID] - rating) ** 2))\n",
    "#         print(\"summation is updated to: {}\".format(summation))\n",
    "        \n",
    "#     print(\"summation:\", summation)\n",
    "    RMSE = (summation / len(np_test)) ** (1/2)\n",
    "    return RMSE\n",
    "\n",
    "RMSE_ua = compute_overall_RMSE(R_ua, np_uatest)\n",
    "print(RMSE_ua)"
   ]
  },
  {
   "cell_type": "markdown",
   "metadata": {},
   "source": [
    "### Now let's compute the RMSE separately for each rating (1-5). For example, what is the RMSE for only those movies in the test data that received actual ratings of 1? In the same way, we will compute the RMSE for ratings 2-5 as well."
   ]
  },
  {
   "cell_type": "code",
   "execution_count": 20,
   "metadata": {},
   "outputs": [
    {
     "name": "stdout",
     "output_type": "stream",
     "text": [
      "2.1125443819 1.30648829362 0.605826897197 0.531504541752 1.15351408\n"
     ]
    }
   ],
   "source": [
    "def compute_RMSE_partial(R, np_test, rating_to_consider = 1):\n",
    "    summation = 0.0\n",
    "    np_test_considered = 0\n",
    "    for row in np_test:\n",
    "        userID = row[0] - 1\n",
    "        movieID = row[1] - 1\n",
    "        rating = row[2]\n",
    "        if (rating != rating_to_consider):\n",
    "            continue\n",
    "        np_test_considered += 1\n",
    "        summation += ((R[userID][movieID] - rating) ** 2)\n",
    "    RMSE = (summation / np_test_considered) ** (1/2)\n",
    "    return RMSE\n",
    "\n",
    "RMSE_r1 = compute_RMSE_partial(R_ua, np_uatest, 1)\n",
    "RMSE_r2 = compute_RMSE_partial(R_ua, np_uatest, 2)\n",
    "RMSE_r3 = compute_RMSE_partial(R_ua, np_uatest, 3)\n",
    "RMSE_r4 = compute_RMSE_partial(R_ua, np_uatest, 4)\n",
    "RMSE_r5 = compute_RMSE_partial(R_ua, np_uatest, 5)\n",
    "print(RMSE_r1, RMSE_r2, RMSE_r3, RMSE_r4, RMSE_r5)"
   ]
  },
  {
   "cell_type": "code",
   "execution_count": 21,
   "metadata": {},
   "outputs": [
    {
     "data": {
      "image/png": "[encoded data removed]",
      "text/plain": [
       "<matplotlib.figure.Figure at 0x17274fae5c0>"
      ]
     },
     "metadata": {},
     "output_type": "display_data"
    }
   ],
   "source": [
    "objects = [i for i in range(1,6)]\n",
    "y_pos = np.arange(len(objects))\n",
    "rmse_performance = [RMSE_r1, RMSE_r2, RMSE_r3, RMSE_r4, RMSE_r5]\n",
    " \n",
    "plt.bar(y_pos, rmse_performance, width=0.5, align='center', alpha=0.5, edgecolor = \"black\")\n",
    "# (left, height, width=0.8, bottom=None, hold=None, data=None, **kwargs)\n",
    "plt.xticks(y_pos, objects)\n",
    "plt.ylabel('RMSE')\n",
    "plt.xlabel('Rating')\n",
    "plt.title('RMSE (Computed Separately for Each Rating)')\n",
    " \n",
    "plt.show()"
   ]
  },
  {
   "cell_type": "markdown",
   "metadata": {},
   "source": [
    "### Let us now plot the RMSE per user. We will bin the users in 5 different categories based on their average rating (which we can get from the training data). For example, if the average ratings for each user range from the lowest average of 3 to the highest average of 4.9, then we will create 5 intervals between 3 and 4.9, and then for every one of those 5 bins we will plot the RMSE for all the users in that bin."
   ]
  },
  {
   "cell_type": "code",
   "execution_count": 22,
   "metadata": {},
   "outputs": [
    {
     "name": "stdout",
     "output_type": "stream",
     "text": [
      "Min. and max. average rating (respectively): 1.48941176471 4.92857142857\n",
      "We will divide the above into 5 bins. The interval for the bin: 0.687831932773\n",
      "DIVISORS: [2.1772436974789917, 2.8650756302521012, 3.5529075630252107, 4.2407394957983202, 4.9285714285714297]\n",
      "\n",
      "RMSE (for bins 1-5): 1.10886596579 1.15083430531 1.00076338174 0.926408980006 0.887866917339\n",
      "No. of users in each bin (1-5):  6 45 367 464 61\n",
      "Total no. of users (expected 943): 943\n"
     ]
    }
   ],
   "source": [
    "'''Compute the average rating that each user gives across all movies that s/he has rated'''\n",
    "avg_rating_by_user = []\n",
    "\n",
    "# Note to self: as a reminder on understanding what's going on in the below for loop, recall the following 2 lines of code\n",
    "# have identical results:\n",
    "#\n",
    "# [element for element in A_uabase[i] if element > 0]\n",
    "# A_uabase[i][A_uabase[i, :] > 0]\n",
    "#\n",
    "# In both cases, it prints out only the column elements in the row A_uabase[i] where the elements have value > 0.\n",
    "# So we can use this to get a list of only those movies that a specific user i has rated, and then\n",
    "# take the mean thereof, thereby computing the avg. rating that user i gives across all movies s/he has rated.\n",
    "for u in range(total_users):\n",
    "    avg_rating_by_user.append(np.mean(A_uabase[u][A_uabase[u, :] > 0]))\n",
    "\n",
    "# # Alternate method to compute the above, for sanity check (comment out once done checking)\n",
    "# avg_rating_by_user_alt = []\n",
    "# for u in range(total_users):\n",
    "#     all_ratings_by_user_u = [element for element in A_uabase[u] if element > 0]\n",
    "#     mean_rating = np.mean(all_ratings_by_user_u)\n",
    "#     avg_rating_by_user_alt.append(mean_rating)\n",
    "# print(\"Double-check: Avg. rating by the last 10 users (from ua.base):\\n{}\".format(avg_rating_by_user_alt[-10:]))\n",
    "\n",
    "# # Making sure that the two methods above yield the same result (comment out once done checking)\n",
    "# for r in range(len(avg_rating_by_user)):\n",
    "#     if (avg_rating_by_user[r] != avg_rating_by_user_alt[r]):\n",
    "#         raise ValueError(\"avg_rating_by_user and avg_rating_by_user_alt should be the same, but they're not! \" +\\\n",
    "#                          \"Something is wrong!\")\n",
    "\n",
    "# Now that we know the avg. rating by all users, let's get the min. and max avg rating, so we know the range.\n",
    "sorted_avg_rating = sorted(avg_rating_by_user)\n",
    "min_avg_rating, max_avg_rating = sorted_avg_rating[0], sorted_avg_rating[-1]\n",
    "print(\"Min. and max. average rating (respectively):\", min_avg_rating, max_avg_rating)\n",
    "\n",
    "# We now create 5 intervals (\"bins\") covering the range between min. and max. avg rating, so that we can\n",
    "# compute the RMSE for all the users in each bin.\n",
    "intervals = 5\n",
    "bin_interval = (max_avg_rating - min_avg_rating) / intervals\n",
    "print(\"We will divide the above into 5 bins. The interval for the bin:\", bin_interval)\n",
    "\n",
    "# We will divide the users into 5 bin \"groups\", separated by the divisors as below.\n",
    "divisors = []\n",
    "div_location = min_avg_rating\n",
    "for i in range(intervals):\n",
    "    div_location += bin_interval\n",
    "    divisors.append(div_location)\n",
    "print(\"DIVISORS:\", divisors)\n",
    "\n",
    "# Compute the RMSE for each bin.\n",
    "# @param R: The recommender system matrix\n",
    "# @param np_test: the np array pertaining to the test data (to compare our prediction against the ground truth)\n",
    "# @param avg_rating_by_user: a list, where avg_rating_by_user[u] = the avg. rating the user gave across all movies s/he rated\n",
    "# @lower_bound: see upper_bound\n",
    "# @upper_bound: (lower_bound, upper_bound] indicates the range of the \"bin\" that we will consider in computing the RMSE.\n",
    "#               If avg_rating_by_user[u] falls outside this range, it means it's outside of the \"bin\", and\n",
    "#               we do not factor this rating into our RMSE computation for the current bin.\n",
    "def compute_RMSE_bins(R, np_test, avg_rating_by_user, lower_bound, upper_bound):\n",
    "    summation = 0.0\n",
    "    np_test_considered = 0\n",
    "    users = set()\n",
    "    for row in np_test:\n",
    "        userID = row[0] - 1\n",
    "        movieID = row[1] - 1\n",
    "        rating = row[2]\n",
    "        avg_rating = avg_rating_by_user[userID]\n",
    "        if (avg_rating <= lower_bound or avg_rating > upper_bound):\n",
    "            continue\n",
    "        np_test_considered += 1\n",
    "        users.add(userID)\n",
    "        summation += ((R[userID][movieID] - rating) ** 2)\n",
    "    RMSE = (summation / np_test_considered) ** (1/2)\n",
    "    return RMSE, len(users)\n",
    "\n",
    "# Invoke the above method to compute RMSE for each bin.\n",
    "# As a sanity check, keep track of the no. of users in each bin.\n",
    "# The users must add up to 943, which is the total number of users.\n",
    "RMSE_bin1, users_in_bin1 = compute_RMSE_bins(R_ua, np_uatest, avg_rating_by_user, 0, divisors[0])\n",
    "RMSE_bin2, users_in_bin2 = compute_RMSE_bins(R_ua, np_uatest, avg_rating_by_user, divisors[0], divisors[1])\n",
    "RMSE_bin3, users_in_bin3 = compute_RMSE_bins(R_ua, np_uatest, avg_rating_by_user, divisors[1], divisors[2])\n",
    "RMSE_bin4, users_in_bin4 = compute_RMSE_bins(R_ua, np_uatest, avg_rating_by_user, divisors[2], divisors[3])\n",
    "RMSE_bin5, users_in_bin5 = compute_RMSE_bins(R_ua, np_uatest, avg_rating_by_user, divisors[3], divisors[4])\n",
    "print(\"\\nRMSE (for bins 1-5):\", RMSE_bin1, RMSE_bin2, RMSE_bin3, RMSE_bin4, RMSE_bin5)\n",
    "print(\"No. of users in each bin (1-5): \", users_in_bin1, users_in_bin2, users_in_bin3, users_in_bin4, users_in_bin5)\n",
    "print(\"Total no. of users (expected 943):\", np.sum([users_in_bin1,users_in_bin2,users_in_bin3,users_in_bin4,users_in_bin5]))"
   ]
  },
  {
   "cell_type": "code",
   "execution_count": 25,
   "metadata": {},
   "outputs": [
    {
     "data": {
      "image/png": "[encoded data removed]",
      "text/plain": [
       "<matplotlib.figure.Figure at 0x17274fae898>"
      ]
     },
     "metadata": {},
     "output_type": "display_data"
    }
   ],
   "source": [
    "# objects = ['Bin 1 (1.489-2.177)', 'Bin 2(2.177-2.865)', 'Bin 3(2.865-3.553)', 'Bin 4(3.553,4.241)', 'Bin 5(4.241,4.929)']\n",
    "objects = ['Bin 1', 'Bin 2', 'Bin 3', 'Bin 4', 'Bin 5']\n",
    "y_pos = np.arange(len(objects))\n",
    "rmse_performance = [RMSE_bin1, RMSE_bin2,RMSE_bin3,RMSE_bin4,RMSE_bin5]\n",
    " \n",
    "plt.bar(y_pos, rmse_performance, width=0.5, align='center', alpha=0.5, edgecolor = \"black\")\n",
    "# (left, height, width=0.8, bottom=None, hold=None, data=None, **kwargs)\n",
    "plt.xticks(y_pos, objects)\n",
    "plt.ylabel('RMSE')\n",
    "plt.xlabel('Bins (1.489,2.177],(2.177,2.865],(2.865,3.553],(3.553,4.241],(4.241,4.929]')\n",
    "plt.title('RMSE (Computed Separately for Each Bin)')\n",
    " \n",
    "plt.show()"
   ]
  },
  {
   "cell_type": "markdown",
   "metadata": {},
   "source": [
    "# Another Recommender System via Similarity Matrix\n",
    "### Next, we will build another recommender system based on section 4.2 of the reading \"Movie Rating Estimation and Recommendation\" by Bao and Xia: for a (u,i) pair, compute the rating by using the item similarity function."
   ]
  },
  {
   "cell_type": "code",
   "execution_count": 26,
   "metadata": {
    "collapsed": true
   },
   "outputs": [],
   "source": [
    "# Let's begin by building a function that computes the list of all users who rated each movie item\n",
    "# @param A preprocessed matrix, e.g. A_uabase\n",
    "def get_user_indices_who_rated_movie(A):\n",
    "    user_indices_who_rated_movie = {}  # We will return a dictionary, with movie index as key and list of users as the value\n",
    "    A_tr = A.transpose()               # For convenience we'll transpose the matrix\n",
    "    for i in range(len(A_tr)):\n",
    "        # This is the list of users who rated movie i, by giving the movie a rating of at least 1\n",
    "        user_indices_who_rated_movie[i] = [u for u in range(len(A_tr[i])) if A_tr[i][u] > 0] \n",
    "    return user_indices_who_rated_movie\n",
    "\n",
    "# call the above function. This returns a dictionary\n",
    "users_who_rated_movie = get_user_indices_who_rated_movie(A_uabase)\n",
    "\n",
    "# Computes total no. of movies that user u rated. Will be used as sanity check\n",
    "def get_no_of_movies_that_user_rated(users_who_rated_movie, u):\n",
    "    no_of_movies_that_user_rated = 0\n",
    "    # Go thru every movie index and include them in the sum if user u rated it\n",
    "    for i in users_who_rated_movie.keys():\n",
    "        # Did user u rate movie i? If so, increment the sum\n",
    "        if u in users_who_rated_movie[i]:\n",
    "            no_of_movies_that_user_rated += 1\n",
    "    return no_of_movies_that_user_rated\n",
    "\n",
    "# This is just a sanity check. We'll verify correctness of the method get_user_indices_who_rated_movie()\n",
    "# by using two different ways to compute the same thing: total no. of movies that user u rated (iterating thru every u)\n",
    "# These two different ways should yield the same result.\n",
    "for u in range(total_users):\n",
    "    # m and m_prime computes the same thing and should be equal for every user u\n",
    "    m = get_no_of_movies_that_user_rated(users_who_rated_movie, u)\n",
    "    m_prime = len([element for element in A_uabase[u] if element > 0])\n",
    "#     print (\"m, m_prime:\", m, m_prime)\n",
    "    if (m != m_prime):\n",
    "        raise ValueError (\"m and m_prime should be equal, but they're not. Something is wrong!\")"
   ]
  },
  {
   "cell_type": "markdown",
   "metadata": {},
   "source": [
    "### We will also create a function that returns a set of users that rated both movie items i1 and i2. This function will be later used to create a similarity matrix."
   ]
  },
  {
   "cell_type": "code",
   "execution_count": 37,
   "metadata": {
    "collapsed": true
   },
   "outputs": [],
   "source": [
    "# Computes the indices of all users that rated both movies, i1 and i2. Returns a set of such user indices.\n",
    "# @param users_who_rated_movie: a dictionary with movie index as key and list of users that rated it as the value.\n",
    "#        previously computed above.\n",
    "# @param i1, i2: indices of movies. Assumes i1 != i2.\n",
    "def get_user_indices_who_rated_both_movies(users_who_rated_movie, i1, i2):\n",
    "    raters_i1 = users_who_rated_movie[i1]\n",
    "    raters_i2 = users_who_rated_movie[i2]\n",
    "    return set(raters_i1).intersection(raters_i2)"
   ]
  },
  {
   "cell_type": "markdown",
   "metadata": {},
   "source": [
    "### Let's now make up the similarity matrix. See the comments below for the formula we use."
   ]
  },
  {
   "cell_type": "code",
   "execution_count": 38,
   "metadata": {},
   "outputs": [
    {
     "name": "stdout",
     "output_type": "stream",
     "text": [
      "[[ 1.         -0.10845401 -0.13649914 ...,  0.          1.         -1.        ]\n",
      " [-0.10845401  1.          0.08719047 ...,  0.          1.          1.        ]\n",
      " [-0.13649914  0.08719047  1.         ...,  0.          0.          1.        ]\n",
      " ..., \n",
      " [ 0.          0.          0.         ...,  1.          0.          0.        ]\n",
      " [ 1.          1.          0.         ...,  0.          1.          0.        ]\n",
      " [-1.          1.          1.         ...,  0.          0.          1.        ]]\n"
     ]
    }
   ],
   "source": [
    "'''\n",
    "# Similarity(i1, i2) = \n",
    "#\n",
    "#                      sum_{u /in U(i1) /intersect U(i2)} [(R_u,i1 - R_u)(R_u,i2 - R_u)]\n",
    "# --------------------------------------------------------------------------------------------------------------------\n",
    "# sqrt([sum_{u /in U(i1) /intersect U(i2)} (R_u,i1 - R_u)^2] * [sum_{u /in U(i1) /intersect U(i2)} [(R_u,i2 - R_u)^2])\n",
    "#\n",
    "# where:\n",
    "# U(i1): set of all users who have rated movie item i1\n",
    "# U(i2): set of all users who have rated movie item i2\n",
    "# U(i1) /intersect U(i2): set of all users who have rated both i1 and i2\n",
    "# R_u,i1: the rating that user u gave to movie i1\n",
    "# R_u,i2: the rating that user u gave to movie i2\n",
    "# R_u: average rating by user u across all movies that s/he rated\n",
    "'''\n",
    "def build_similarity_matrix(A, avg_rating_by_user, user_indices_who_rated_movie):\n",
    "    num_total_movies = len(A[0]) # Should be 1682 total movies\n",
    "    S = np.zeros((num_total_movies, num_total_movies)) # Initialize a 1682 x 1682 similarity matrix\n",
    "    epsilon = 1e-5  # Used in the event that numerator is 0\n",
    "    for i1 in range(num_total_movies):\n",
    "        for i2 in range(i1, num_total_movies):\n",
    "            # Similarity rating range is [-1, 1]. If two movie indices are identical, then set similarity to 1.\n",
    "            if (i1 == i2):\n",
    "                S[i1][i2] = 1\n",
    "                continue\n",
    "                \n",
    "            # If indices aren't identical, apply the formula above.\n",
    "            ####################################\n",
    "            ### Begin by computing numerator ###\n",
    "            ####################################\n",
    "            set_users_who_rated_both = get_user_indices_who_rated_both_movies(users_who_rated_movie, i1, i2)\n",
    "            numerator = 0.0\n",
    "            for u in set_users_who_rated_both:\n",
    "                R_u = avg_rating_by_user[u]\n",
    "                numerator += (A[u][i1] - R_u)*(A[u][i2] - R_u)\n",
    "            # Alt. way to compute numerator just for sanity check\n",
    "            numerator_alt = np.sum([(A[u][i1] - avg_rating_by_user[u])*(A[u][i2] - avg_rating_by_user[u])\\\n",
    "                            for u in set_users_who_rated_both])\n",
    "            # Make sure both ways of computing numerator lead to same result\n",
    "            if(abs(numerator - numerator_alt) > epsilon): \n",
    "                raise ValueError(\"numerator and numerator_alt should be equal, but they're not! Something's wrong!\")\n",
    "            \n",
    "            # Also compute numerator value with epsilon, just as backup in case we get 0 numerator\n",
    "            numerator_w_epsilon = np.sum([(A[u][i1] - avg_rating_by_user[u] + epsilon)*\\\n",
    "                                          (A[u][i2] - avg_rating_by_user[u] + epsilon) \\\n",
    "                                          for u in set_users_who_rated_both])\n",
    "            \n",
    "            ###########################\n",
    "            ### Compute denominator ###\n",
    "            ###########################\n",
    "            sum_1stterm = 0\n",
    "            sum_2ndterm = 0\n",
    "            for u in set_users_who_rated_both:\n",
    "                sum_1stterm += ((A[u][i1] - avg_rating_by_user[u]) ** 2)\n",
    "                sum_2ndterm += ((A[u][i2] - avg_rating_by_user[u]) ** 2)\n",
    "            denominator = np.sqrt(sum_1stterm * sum_2ndterm)\n",
    "            \n",
    "            # Sanity check: Make sure both ways of computing denominator lead to same result\n",
    "            denominator_alt = np.sqrt(\n",
    "                        np.sum([(A[u][i1] - avg_rating_by_user[u]) ** 2 for u in set_users_who_rated_both])*\\\n",
    "                        np.sum([(A[u][i2] - avg_rating_by_user[u]) ** 2 for u in set_users_who_rated_both])\n",
    "                        )\n",
    "            if abs(denominator - denominator_alt) > epsilon:\n",
    "                raise ValueError(\"denom and denom_alt should be equal, but they're not! Something's wrong!\")\n",
    "            \n",
    "            # Also compute denom with epsilon, just as backup in case we get 0 denominator\n",
    "            denominator_w_epsilon = np.sqrt(\n",
    "                        np.sum([(A[u][i1] - avg_rating_by_user[u] + epsilon) ** 2 for u in set_users_who_rated_both])*\\\n",
    "                        np.sum([(A[u][i2] - avg_rating_by_user[u] + epsilon) ** 2 for u in set_users_who_rated_both])\n",
    "                        )\n",
    "            \n",
    "            # Check for 0 numerator and/or denominator.\n",
    "            # If denom is 0, then just set similarity to 0.\n",
    "            # Else, if numerator is 0, use the num and denom values computed with epsilon\n",
    "            # Else (neither numer nor denom is zero), just divide.\n",
    "            if denominator == 0:\n",
    "                S[i1][i2] = 0\n",
    "                S[i2][i1] = S[i1][i2]\n",
    "            elif numerator == 0:\n",
    "                S[i1][i2] = numerator_w_epsilon / denominator_w_epsilon\n",
    "                S[i2][i1] = S[i1][i2]\n",
    "            else:\n",
    "                S[i1][i2] = numerator / denominator\n",
    "                S[i2][i1] = S[i1][i2]\n",
    "    return S\n",
    "# end build_similarity_matrix\n",
    "\n",
    "# Build similarity matrix by invoking above method\n",
    "S = build_similarity_matrix(A_uabase, avg_rating_by_user, users_who_rated_movie)\n",
    "print(S)\n",
    "\n",
    "# Check to see all elements are in the valid similarity range of [-1, 1] (while accounting for small floating value errors)\n",
    "epsilon = 0.00001\n",
    "for row in S:\n",
    "    invalid_values = [element for element in row if element < (-1. - epsilon) or element > (1. + epsilon)]\n",
    "    if len(invalid_values) > 0:\n",
    "        print(invalid_values)\n",
    "        raise ValueError(\"ERROR: The similarity matrix contains elements that are outside of the range [-1, 1].\")"
   ]
  },
  {
   "cell_type": "markdown",
   "metadata": {},
   "source": [
    "### Printing some sections of the similarity matrix just for testing."
   ]
  },
  {
   "cell_type": "code",
   "execution_count": 39,
   "metadata": {},
   "outputs": [
    {
     "name": "stdout",
     "output_type": "stream",
     "text": [
      "[ 1.         -0.10845401 -0.13649914 -0.09945136  0.04588     0.2214648\n",
      "  0.15793617  0.28992768  0.10362926  0.01014528]\n",
      "[ 1.          0.35048723 -0.18690751 -0.00651632  0.20387371 -0.15861479\n",
      "  0.08342795 -0.02089445  0.22690778 -0.34249381]\n",
      "[ 0.  0.  0.  0.  0.  0.  0.  0.  0.  1.]\n"
     ]
    }
   ],
   "source": [
    "print(S[0][:10])\n",
    "print(S[10][10:20])\n",
    "print(S[-1][-10:])"
   ]
  },
  {
   "cell_type": "markdown",
   "metadata": {},
   "source": [
    "### Now that we have built the similarity matrix, we will use weighted sum formula (see comments below) to predict the movie rating for each (u, i) pair."
   ]
  },
  {
   "cell_type": "code",
   "execution_count": 54,
   "metadata": {
    "collapsed": true
   },
   "outputs": [],
   "source": [
    "'''\n",
    "Predicted_Rating(u, i) = \n",
    "\n",
    "sum_{n, where n /in the set of (k movies that are most similar to i that user u has rated)} (S(i, n) * R(u, n))\n",
    "---------------------------------------------------------------------------------------------------------------\n",
    "     sum_{n, where n /in the set of (k movies that are most similar to i that user u has rated)} |S(i,n)|\n",
    "     \n",
    "where:\n",
    "S(i, n) = the similarity rating between movie index i and movie index n\n",
    "R(u, n) = the rating that user u gave to movie n\n",
    "|S(i, n)| = absolute value of the similarity rating between i and n\n",
    "\n",
    "NOTE: if user u has rated fewer than k movies, then we just use all the movies that s/he has rated.\n",
    "'''\n",
    "\n",
    "'''\n",
    "So, basic prediction steps are as follows:\n",
    "1.) Get the similarity matrix (this is already done above)\n",
    "2.) Loop over all NONZERO entries (u,i) in the TESTING data, e.g. A_uatest. We do this for efficiency reasons; we're\n",
    "    only going to make predictions for those ratings that are included in the test data\n",
    "    (without actually peeking at the answers in the testing data -- that'd be cheating), so we can\n",
    "    compare our predictions for only those entries with the ground truth in the testing data and compute the RMSE.\n",
    "    For the rest of this instruction, let's say that we're looking at movie item i.\n",
    "    2.1) find the list of items that the user has rated as given by the TRAINIG data (say that this list is L = [y,z,w]).\n",
    "    2.2) look at the similarity for (i,y), (i,z), (i,w) in the similarity matrix.\n",
    "    2.3) sort the similarity and choose the k highest values (if k > len(L), then just choose all values in list)\n",
    "    2.4) do the weighted sum as given above (see the above formula) and add this value to the recommender matrix R[u][i]\n",
    "'''\n",
    "        \n",
    "'''\n",
    "Build recommender system\n",
    "As stated above, to save time we'll only predict those entries where\n",
    "the testing data has a nonzero entry at (u, i).\n",
    "'''\n",
    "def buildRecommender_KNN(S, A, Atest, k, global_average_rating):\n",
    "    total_num_users = len(A)\n",
    "    total_num_movies = len(A[0])\n",
    "    R = np.zeros((total_num_users, total_num_movies))\n",
    "    \n",
    "    # Begin loop to build recommender matrix\n",
    "    for u in range(total_num_users):\n",
    "        for i in range(total_num_movies):\n",
    "            \n",
    "            # Don't bother predicting rating where testing data doesn't have the ground truth\n",
    "            if Atest[u][i] == 0:\n",
    "#                 print(\"Test data doesn't include entry for ({},{}). Continuing...\".format(u,i))\n",
    "                continue  \n",
    "                \n",
    "            # Get a list of all movie indices that user u has rated (as seen in training data)\n",
    "            all_movies_u_rated = [j for j in range(len(A[u])) if A[u][j] > 0]\n",
    "            \n",
    "            # Now look at the similarity rating between movie i and all the movies in the above list\n",
    "            # We'll keep a tuple of (similarity rating, movie_index) for each movie_index as compared to movie i.\n",
    "            similarity = [(S[i][movie_index], movie_index) for movie_index in all_movies_u_rated]\n",
    "            \n",
    "            # get the list of k most similar items to movie i\n",
    "            k_most_similar = sorted(similarity, reverse=True)[:k]\n",
    "#             print(\"k_most_similar for (u, i) = ({}, {}): {}\".format(u, i, k_most_similar))\n",
    "                        \n",
    "            numerator = np.sum([S[i][n] * A[u][n] for (similarity_rating, n) in k_most_similar])\n",
    "            denominator = np.sum([abs(S[i][n]) for (similarity_rating, n) in k_most_similar])\n",
    "            \n",
    "            if (denominator) == 0:\n",
    "                R[u][i] = global_average_rating\n",
    "            else:\n",
    "                R[u][i] = numerator / denominator\n",
    "                if(np.isnan(R[u][i])):\n",
    "                    R[u][i] = global_average_rating\n",
    "    return R"
   ]
  },
  {
   "cell_type": "markdown",
   "metadata": {},
   "source": [
    "### Let us try K-values of 1, 2, 3, 5, and 10."
   ]
  },
  {
   "cell_type": "code",
   "execution_count": 55,
   "metadata": {},
   "outputs": [],
   "source": [
    "R_knn1 = buildRecommender_KNN(S, A_uabase, A_uatest, 1, mu_uabase)\n",
    "R_knn2 = buildRecommender_KNN(S, A_uabase, A_uatest, 2, mu_uabase)\n",
    "R_knn3 = buildRecommender_KNN(S, A_uabase, A_uatest, 3, mu_uabase)\n",
    "R_knn5 = buildRecommender_KNN(S, A_uabase, A_uatest, 5, mu_uabase)\n",
    "R_knn10 = buildRecommender_KNN(S, A_uabase, A_uatest, 10, mu_uabase)"
   ]
  },
  {
   "cell_type": "markdown",
   "metadata": {},
   "source": [
    "### Calculate the overall RMSE for each value of K, plot them and find the optimal one."
   ]
  },
  {
   "cell_type": "code",
   "execution_count": 56,
   "metadata": {},
   "outputs": [
    {
     "name": "stdout",
     "output_type": "stream",
     "text": [
      "RMSE for K = 1,2,3,5,10 (respectively): 1.37283711269 1.18735791402 1.12077081995 1.07611582867 1.32875048579\n"
     ]
    },
    {
     "data": {
      "image/png": "[encoded data removed]",
      "text/plain": [
       "<matplotlib.figure.Figure at 0x17200101630>"
      ]
     },
     "metadata": {},
     "output_type": "display_data"
    }
   ],
   "source": [
    "RMSE_knn1 = compute_overall_RMSE(R_knn1, np_uatest)\n",
    "RMSE_knn2 = compute_overall_RMSE(R_knn2, np_uatest)\n",
    "RMSE_knn3 = compute_overall_RMSE(R_knn3, np_uatest)\n",
    "RMSE_knn5 = compute_overall_RMSE(R_knn5, np_uatest)\n",
    "RMSE_knn10 = compute_overall_RMSE(R_knn10, np_uatest)\n",
    "print(\"RMSE for K = 1,2,3,5,10 (respectively):\", RMSE_knn1, RMSE_knn2, RMSE_knn3, RMSE_knn5, RMSE_knn10)\n",
    "\n",
    "objects = [1, 2, 3, 5, 10]\n",
    "y_pos = np.arange(len(objects))\n",
    "rmse_performance = [RMSE_knn1, RMSE_knn2,RMSE_knn3,RMSE_knn5,RMSE_knn10]\n",
    " \n",
    "plt.bar(y_pos, rmse_performance, width=0.7, align='center', alpha=0.5, edgecolor = \"black\")\n",
    "plt.xticks(y_pos, objects)\n",
    "plt.ylabel('RMSE')\n",
    "plt.xlabel('K')\n",
    "plt.title('RMSE-KNN (Computed Separately for different values of K)')\n",
    " \n",
    "plt.show()"
   ]
  },
  {
   "cell_type": "markdown",
   "metadata": {},
   "source": [
    "### We can see above that K = 5 yields the smallest RMSE."
   ]
  },
  {
   "cell_type": "markdown",
   "metadata": {},
   "source": [
    "### Let's dig a bit deeper by look at k=2 and k=5, and plotting the RMSE per user x movie rating. For example plot the RMSE for all the test user x movies that have training rating 1,2,3,4,5.\n",
    "### Below is the bar graph for K = 2."
   ]
  },
  {
   "cell_type": "code",
   "execution_count": 57,
   "metadata": {},
   "outputs": [
    {
     "name": "stdout",
     "output_type": "stream",
     "text": [
      "2.04712148084 1.4344402675 0.934738549104 0.943522506031 1.34691732001\n"
     ]
    },
    {
     "data": {
      "image/png": "[encoded data removed]",
      "text/plain": [
       "<matplotlib.figure.Figure at 0x17200101438>"
      ]
     },
     "metadata": {},
     "output_type": "display_data"
    }
   ],
   "source": [
    "RMSE_knn2_r1 = compute_RMSE_partial(R_knn2, np_uatest, 1)\n",
    "RMSE_knn2_r2 = compute_RMSE_partial(R_knn2, np_uatest, 2)\n",
    "RMSE_knn2_r3 = compute_RMSE_partial(R_knn2, np_uatest, 3)\n",
    "RMSE_knn2_r4 = compute_RMSE_partial(R_knn2, np_uatest, 4)\n",
    "RMSE_knn2_r5 = compute_RMSE_partial(R_knn2, np_uatest, 5)\n",
    "print(RMSE_knn2_r1,RMSE_knn2_r2,RMSE_knn2_r3,RMSE_knn2_r4,RMSE_knn2_r5)\n",
    "\n",
    "objects = [1, 2, 3, 4, 5]\n",
    "y_pos = np.arange(len(objects))\n",
    "rmse_performance = [RMSE_knn2_r1, RMSE_knn2_r2,RMSE_knn2_r3,RMSE_knn2_r4,RMSE_knn2_r5]\n",
    " \n",
    "plt.bar(y_pos, rmse_performance, width=0.7, align='center', alpha=0.5, edgecolor=\"black\")\n",
    "plt.xticks(y_pos, objects)\n",
    "plt.ylabel('RMSE')\n",
    "plt.xlabel('Rating')\n",
    "plt.title('RMSE-KNN2 (Computed Separately for Each Rating)')\n",
    " \n",
    "plt.show()"
   ]
  },
  {
   "cell_type": "markdown",
   "metadata": {},
   "source": [
    "### And here is the graph for K = 5."
   ]
  },
  {
   "cell_type": "code",
   "execution_count": 58,
   "metadata": {},
   "outputs": [
    {
     "name": "stdout",
     "output_type": "stream",
     "text": [
      "2.01852424776 1.34580982722 0.824942188209 0.770181172444 1.23674547401\n"
     ]
    },
    {
     "data": {
      "image/png": "[encoded data removed]",
      "text/plain": [
       "<matplotlib.figure.Figure at 0x172001f6278>"
      ]
     },
     "metadata": {},
     "output_type": "display_data"
    }
   ],
   "source": [
    "RMSE_knn5_r1 = compute_RMSE_partial(R_knn5, np_uatest, 1)\n",
    "RMSE_knn5_r2 = compute_RMSE_partial(R_knn5, np_uatest, 2)\n",
    "RMSE_knn5_r3 = compute_RMSE_partial(R_knn5, np_uatest, 3)\n",
    "RMSE_knn5_r4 = compute_RMSE_partial(R_knn5, np_uatest, 4)\n",
    "RMSE_knn5_r5 = compute_RMSE_partial(R_knn5, np_uatest, 5)\n",
    "print(RMSE_knn5_r1,RMSE_knn5_r2,RMSE_knn5_r3,RMSE_knn5_r4,RMSE_knn5_r5)\n",
    "\n",
    "objects = [1, 2, 3, 4, 5]\n",
    "y_pos = np.arange(len(objects))\n",
    "rmse_performance = [RMSE_knn5_r1, RMSE_knn5_r2,RMSE_knn5_r3,RMSE_knn5_r4,RMSE_knn5_r5]\n",
    " \n",
    "plt.bar(y_pos, rmse_performance, width=0.7, align='center', alpha=0.5, edgecolor = \"black\")\n",
    "plt.xticks(y_pos, objects)\n",
    "plt.ylabel('RMSE')\n",
    "plt.xlabel('Rating')\n",
    "plt.title('RMSE-KNN5 (Computed Separately for Each Rating)')\n",
    " \n",
    "plt.show()"
   ]
  },
  {
   "cell_type": "markdown",
   "metadata": {},
   "source": [
    "### As we did previously, we will plot the RMSE per user. by creating 5 different bins. We'll do this 5 times, for KNN-1, KNN-2, KNN-3, KNN-5 and KNN-10."
   ]
  },
  {
   "cell_type": "code",
   "execution_count": 59,
   "metadata": {
    "scrolled": true
   },
   "outputs": [
    {
     "name": "stdout",
     "output_type": "stream",
     "text": [
      "RMSE (KNN-1): [1.433932251369991, 1.5811388300841898, 1.4467081007961913, 1.3226312593749863, 1.0909463480970225]\n"
     ]
    },
    {
     "data": {
      "image/png": "[encoded data removed]",
      "text/plain": [
       "<matplotlib.figure.Figure at 0x172000e83c8>"
      ]
     },
     "metadata": {},
     "output_type": "display_data"
    },
    {
     "name": "stdout",
     "output_type": "stream",
     "text": [
      "RMSE (KNN-2): [1.3631782132156653, 1.4283901451573318, 1.2514511930073196, 1.1300286251347531, 0.98525877271763496]\n"
     ]
    },
    {
     "data": {
      "image/png": "[encoded data removed]",
      "text/plain": [
       "<matplotlib.figure.Figure at 0x172752434a8>"
      ]
     },
     "metadata": {},
     "output_type": "display_data"
    },
    {
     "name": "stdout",
     "output_type": "stream",
     "text": [
      "RMSE (KNN-3): [1.3269054802803881, 1.3412510649176959, 1.1728081424592429, 1.0736668675693548, 0.93501379456242595]\n"
     ]
    },
    {
     "data": {
      "image/png": "[encoded data removed]",
      "text/plain": [
       "<matplotlib.figure.Figure at 0x172750267f0>"
      ]
     },
     "metadata": {},
     "output_type": "display_data"
    },
    {
     "name": "stdout",
     "output_type": "stream",
     "text": [
      "RMSE (KNN-5): [1.3433403576663707, 1.3267267673353584, 1.1095171995867921, 1.0348608287878307, 0.93457374606423149]\n"
     ]
    },
    {
     "data": {
      "image/png": "[encoded data removed]",
      "text/plain": [
       "<matplotlib.figure.Figure at 0x172744177f0>"
      ]
     },
     "metadata": {},
     "output_type": "display_data"
    },
    {
     "name": "stdout",
     "output_type": "stream",
     "text": [
      "RMSE (KNN-10): [1.5228859640302226, 1.8659020003707305, 1.30990868543487, 1.2272886304696762, 1.648338545484463]\n"
     ]
    },
    {
     "data": {
      "image/png": "[encoded data removed]",
      "text/plain": [
       "<matplotlib.figure.Figure at 0x17272ea3630>"
      ]
     },
     "metadata": {},
     "output_type": "display_data"
    }
   ],
   "source": [
    "def plot_bins(objects, rmse_performance, title):\n",
    "    y_pos = np.arange(len(objects))\n",
    "    plt.bar(y_pos, rmse_performance, width=0.5, align='center', alpha=0.5, edgecolor = \"black\")\n",
    "    plt.xticks(y_pos, objects)\n",
    "    plt.ylabel('RMSE')\n",
    "    plt.xlabel('Bins (1.489,2.177],(2.177,2.865],(2.865,3.553],(3.553,4.241],(4.241,4.929]')\n",
    "    plt.title(title)\n",
    "    plt.show()\n",
    "\n",
    "    \n",
    "R_knn_list = [(R_knn1, 'KNN-1'), (R_knn2, 'KNN-2'), (R_knn3, 'KNN-3'), (R_knn5, 'KNN-5'), (R_knn10, 'KNN-10')]\n",
    "for Rknn in R_knn_list:\n",
    "    r1, u1 = compute_RMSE_bins(Rknn[0], np_uatest, avg_rating_by_user, 0, divisors[0])\n",
    "    r2, u2 = compute_RMSE_bins(Rknn[0], np_uatest, avg_rating_by_user, divisors[0], divisors[1])\n",
    "    r3, u3 = compute_RMSE_bins(Rknn[0], np_uatest, avg_rating_by_user, divisors[1], divisors[2])\n",
    "    r4, u4 = compute_RMSE_bins(Rknn[0], np_uatest, avg_rating_by_user, divisors[2], divisors[3])\n",
    "    r5, u5 = compute_RMSE_bins(Rknn[0], np_uatest, avg_rating_by_user, divisors[3], divisors[4])\n",
    "    rmse_performance = [r1, r2, r3, r4, r5]\n",
    "    users_in_each_bin = [u1, u2, u3, u4, u5]\n",
    "    if np.sum(users_in_each_bin) != total_users:\n",
    "        raise ValueError(\"ERROR: The users in each of the bins must sum to equal the total number of users!\")\n",
    "    print(\"RMSE ({}): {}\".format(Rknn[1], rmse_performance))\n",
    "    objects = ['Bin 1', 'Bin 2', 'Bin 3', 'Bin 4', 'Bin 5']\n",
    "    plot_bins(objects,rmse_performance, \"RMSE-{} (Computed Separately for Each Bin)\".format(Rknn[1]))"
   ]
  },
  {
   "cell_type": "markdown",
   "metadata": {},
   "source": [
    "### Overall, we can verify that these RMSE results outperform those of a random guess as expected."
   ]
  }
 ],
 "metadata": {
  "anaconda-cloud": {},
  "kernelspec": {
   "display_name": "Python 3",
   "language": "python",
   "name": "python3"
  },
  "language_info": {
   "codemirror_mode": {
    "name": "ipython",
    "version": 3
   },
   "file_extension": ".py",
   "mimetype": "text/x-python",
   "name": "python",
   "nbconvert_exporter": "python",
   "pygments_lexer": "ipython3",
   "version": "3.6.1"
  }
 },
 "nbformat": 4,
 "nbformat_minor": 1
}
